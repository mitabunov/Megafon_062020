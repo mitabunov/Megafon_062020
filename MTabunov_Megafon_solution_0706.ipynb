{
  "nbformat": 4,
  "nbformat_minor": 0,
  "metadata": {
    "colab": {
      "name": "MyMeg_0406_prefin_lR.ipynb",
      "provenance": [],
      "collapsed_sections": [],
      "toc_visible": true
    },
    "kernelspec": {
      "name": "python3",
      "display_name": "Python 3"
    },
    "accelerator": "GPU"
  },
  "cells": [
    {
      "cell_type": "markdown",
      "metadata": {
        "id": "axatt_syXFo1",
        "colab_type": "text"
      },
      "source": [
        "#Курсовая работа \"Мегафон\""
      ]
    },
    {
      "cell_type": "markdown",
      "metadata": {
        "id": "YfBiYERGXB4Z",
        "colab_type": "text"
      },
      "source": [
        "У нас появился запрос из отдела продаж и маркетинга. Как вы знаете «МегаФон» предлагает обширный набор различных услуг своим абонентам. При этом разным пользователям интересны разные услуги. Поэтому необходимо построить  алгоритм, который для каждой пары пользователь-услуга определит вероятность подключения услуги."
      ]
    },
    {
      "cell_type": "code",
      "metadata": {
        "id": "8iP3LrN3H52r",
        "colab_type": "code",
        "colab": {}
      },
      "source": [
        "# from google.colab import drive\n",
        "# drive.mount('/content/drive/')"
      ],
      "execution_count": 0,
      "outputs": []
    },
    {
      "cell_type": "code",
      "metadata": {
        "id": "QMTtFHB5G4TE",
        "colab_type": "code",
        "colab": {}
      },
      "source": [
        "# !python3 \"/content/drive/My Drive/Colab Notebooks/WOE_IV.py\""
      ],
      "execution_count": 0,
      "outputs": []
    },
    {
      "cell_type": "markdown",
      "metadata": {
        "id": "bZzOQCJET-DI",
        "colab_type": "text"
      },
      "source": [
        "Импортируем пакеты"
      ]
    },
    {
      "cell_type": "code",
      "metadata": {
        "id": "w4kPpuYPXB2U",
        "colab_type": "code",
        "colab": {}
      },
      "source": [
        "\n",
        "import pandas as pd\n",
        "import numpy as np\n",
        "import seaborn as sns\n",
        "import missingno as msno\n",
        "import pandas.core.algorithms as algos\n",
        "from pandas import Series\n",
        "import scipy.stats.stats as stats\n",
        "import re\n",
        "import traceback\n",
        "import string\n",
        "import matplotlib.pyplot as plt\n",
        "# plt.style.use('ggplot')\n",
        "import sklearn\n",
        "from datetime import datetime, date\n",
        "import holidays\n",
        "from sklearn.metrics import precision_recall_curve, roc_curve, auc, f1_score, accuracy_score, precision_score, recall_score\n",
        "from scipy import interp\n",
        "from sklearn.ensemble import ExtraTreesClassifier\n",
        "from sklearn.compose import ColumnTransformer\n",
        "from sklearn.pipeline import Pipeline\n",
        "from sklearn.preprocessing import LabelEncoder, OneHotEncoder\n",
        "\n",
        "from pandas import Series\n",
        "from imblearn.over_sampling import SMOTE\n",
        "\n",
        "from sklearn.preprocessing import MinMaxScaler, StandardScaler\n",
        "from sklearn.model_selection import GridSearchCV, RandomizedSearchCV\n",
        "from sklearn.pipeline import FeatureUnion, make_pipeline\n",
        "from sklearn.impute import SimpleImputer\n",
        "from sklearn.feature_selection import chi2, mutual_info_classif, RFECV\n",
        "from sklearn.model_selection import StratifiedKFold, train_test_split\n",
        "from imblearn.over_sampling import SMOTE\n",
        "from collections import Counter\n",
        "from sklearn.datasets import make_classification\n",
        "from imblearn.over_sampling import RandomOverSampler \n",
        "from sklearn.naive_bayes import GaussianNB\n",
        "from sklearn.linear_model import LogisticRegression\n",
        "import xgboost as xgb\n",
        "from mpl_toolkits.axes_grid1 import make_axes_locatable\n",
        "from sklearn.model_selection import StratifiedKFold, train_test_split\n",
        "from sklearn.feature_selection import chi2, mutual_info_classif, RFECV\n",
        "from sklearn.metrics import precision_score, recall_score, f1_score, precision_recall_curve, roc_curve, auc, \\\n",
        "                            log_loss, roc_auc_score, average_precision_score, confusion_matrix\n",
        "from sklearn.metrics import classification_report, f1_score, precision_score, recall_score\n",
        "\n",
        "from datetime import datetime\n",
        "import warnings\n",
        "warnings.filterwarnings('ignore')\n",
        "# from WOE_IV import data_vars\n",
        "import pickle"
      ],
      "execution_count": 0,
      "outputs": []
    },
    {
      "cell_type": "code",
      "metadata": {
        "id": "nq79nZPrKV5X",
        "colab_type": "code",
        "colab": {}
      },
      "source": [
        "# from google.colab import files\n",
        "# files.upload()\n"
      ],
      "execution_count": 0,
      "outputs": []
    },
    {
      "cell_type": "code",
      "metadata": {
        "id": "nqo2E9zzZ_uI",
        "colab_type": "code",
        "colab": {}
      },
      "source": [
        "# RF=holidays.RU(years =[2019,2020])"
      ],
      "execution_count": 0,
      "outputs": []
    },
    {
      "cell_type": "markdown",
      "metadata": {
        "id": "9qSakh9evQWk",
        "colab_type": "text"
      },
      "source": [
        "#LOAD"
      ]
    },
    {
      "cell_type": "code",
      "metadata": {
        "id": "--iDg1PHXOgZ",
        "colab_type": "code",
        "colab": {}
      },
      "source": [
        "TRAIN_PATH = '/content/drive/My Drive/Megafon/Копия data_train.csv'\n",
        "TEST_PATH = '/content/drive/My Drive/Megafon/Копия data_test.csv'\n",
        "FEATURES_ZIP_PATH ='/content/drive/My Drive/Features/features.csv 2(1).zip'\n",
        "FEATURES_PATH ='/content/drive/My Drive/Features/features.csv'\n",
        "ANSWER_PATH = '/content/drive/My Drive/Megafon/answer_meg.csv'\n",
        "MODEL_FILE_PATH = '/content/drive/My Drive/Megafon/model.pkl'\n",
        "TARGET = ['target']"
      ],
      "execution_count": 0,
      "outputs": []
    },
    {
      "cell_type": "code",
      "metadata": {
        "id": "YISDLGyIYLGf",
        "colab_type": "code",
        "outputId": "141b0b7f-0624-4a81-b068-5bec80576661",
        "colab": {
          "base_uri": "https://localhost:8080/",
          "height": 225
        }
      },
      "source": [
        "data = pd.read_csv(TRAIN_PATH)\n",
        "data.info()"
      ],
      "execution_count": 69,
      "outputs": [
        {
          "output_type": "stream",
          "text": [
            "<class 'pandas.core.frame.DataFrame'>\n",
            "RangeIndex: 831653 entries, 0 to 831652\n",
            "Data columns (total 5 columns):\n",
            " #   Column      Non-Null Count   Dtype  \n",
            "---  ------      --------------   -----  \n",
            " 0   Unnamed: 0  831653 non-null  int64  \n",
            " 1   id          831653 non-null  int64  \n",
            " 2   vas_id      831653 non-null  float64\n",
            " 3   buy_time    831653 non-null  int64  \n",
            " 4   target      831653 non-null  float64\n",
            "dtypes: float64(2), int64(3)\n",
            "memory usage: 31.7 MB\n"
          ],
          "name": "stdout"
        }
      ]
    },
    {
      "cell_type": "code",
      "metadata": {
        "id": "40E7lI3MZ-_C",
        "colab_type": "code",
        "colab": {}
      },
      "source": [
        "def view_matrix(df_train):\n",
        "    \n",
        "    '''показывает пропуски по колонкам и общую информацию о сете'''\n",
        "    \n",
        "    for colname in df_train.select_dtypes(include='object').columns:\n",
        "        print(str(colname) + '\\n\\n' + str(df_train[colname].value_counts()) + '\\n' + '*' * 100 + '\\n')\n",
        "    \n",
        "    msno.matrix(df_train) \n",
        "    display(\"/usr/local/share/datasets/matrix_sorted.png\")\n",
        "    \n",
        "    print(df_train.head())\n",
        "    print(len(df_train) - df_train.count(), df_train.info())\n",
        "    print('===================================')\n",
        "    print(\"Дубли в строках    \", df_train.duplicated().sum())\n",
        "    print(\"Дубли в ID    \", df_train['id'].duplicated().sum())\n"
      ],
      "execution_count": 0,
      "outputs": []
    },
    {
      "cell_type": "code",
      "metadata": {
        "id": "j4MWEQWQaJPW",
        "colab_type": "code",
        "outputId": "4e5d8632-71f3-49da-80ec-f2d02f6e9036",
        "colab": {
          "base_uri": "https://localhost:8080/",
          "height": 876
        }
      },
      "source": [
        "view_matrix(data)"
      ],
      "execution_count": 71,
      "outputs": [
        {
          "output_type": "display_data",
          "data": {
            "text/plain": [
              "'/usr/local/share/datasets/matrix_sorted.png'"
            ]
          },
          "metadata": {
            "tags": []
          }
        },
        {
          "output_type": "stream",
          "text": [
            "   Unnamed: 0       id  vas_id    buy_time  target\n",
            "0           0   540968     8.0  1537131600     0.0\n",
            "1           1  1454121     4.0  1531688400     0.0\n",
            "2           2  2458816     1.0  1534107600     0.0\n",
            "3           3  3535012     5.0  1535922000     0.0\n",
            "4           4  1693214     1.0  1535922000     0.0\n",
            "<class 'pandas.core.frame.DataFrame'>\n",
            "RangeIndex: 831653 entries, 0 to 831652\n",
            "Data columns (total 5 columns):\n",
            " #   Column      Non-Null Count   Dtype  \n",
            "---  ------      --------------   -----  \n",
            " 0   Unnamed: 0  831653 non-null  int64  \n",
            " 1   id          831653 non-null  int64  \n",
            " 2   vas_id      831653 non-null  float64\n",
            " 3   buy_time    831653 non-null  int64  \n",
            " 4   target      831653 non-null  float64\n",
            "dtypes: float64(2), int64(3)\n",
            "memory usage: 31.7 MB\n",
            "Unnamed: 0    0\n",
            "id            0\n",
            "vas_id        0\n",
            "buy_time      0\n",
            "target        0\n",
            "dtype: int64 None\n",
            "===================================\n",
            "Дубли в строках     0\n",
            "Дубли в ID     25040\n"
          ],
          "name": "stdout"
        },
        {
          "output_type": "display_data",
          "data": {
            "image/png": "[encoded data removed]",
            "text/plain": [
              "<Figure size 1800x720 with 2 Axes>"
            ]
          },
          "metadata": {
            "tags": [],
            "needs_background": "light"
          }
        }
      ]
    },
    {
      "cell_type": "markdown",
      "metadata": {
        "id": "tutbprXn8mwg",
        "colab_type": "text"
      },
      "source": [
        "\n",
        "Пропусков нет.\n",
        "Дубли по ID  в датасете есть. \n",
        "От них избавимся чуть позже."
      ]
    },
    {
      "cell_type": "markdown",
      "metadata": {
        "id": "Gu0cDntG8PG6",
        "colab_type": "text"
      },
      "source": [
        "Увеличим число временных признаков для утрирования датасета\n"
      ]
    },
    {
      "cell_type": "code",
      "metadata": {
        "id": "iR_VFNpKz9Co",
        "colab_type": "code",
        "colab": {}
      },
      "source": [
        "data = data.rename(columns={'Unnamed: 0': 'index'})\n",
        "# data = data.set_index('index')\n",
        "data['date'] = list(map(datetime.fromtimestamp,data['buy_time']))\n",
        "data['month'] = data['date'].apply(lambda x: x.timetuple()[1])\n",
        "data['days'] = data['date'].apply(lambda x: x.timetuple()[7])\n",
        "# data['year'] = data['date'].map(lambda x: x.year)\n",
        "data['hour'] = data['date'].map(lambda x: x.hour)\n",
        "data['is_holiday'] = data['date'].map(lambda x: x in holidays.RU())\n",
        "first_diff_l =np.log(data.iloc[1:,3].values) \n",
        "data['diff1_l'] = 0\n",
        "data['diff1_l'] =  data['diff1_l'].astype('float') \n",
        "data['diff1_l'].values[1:] = first_diff_l\n",
        "# data.info()\n",
        "data = data.drop(['date'],axis=1)"
      ],
      "execution_count": 0,
      "outputs": []
    },
    {
      "cell_type": "code",
      "metadata": {
        "id": "dztLbWXUhngQ",
        "colab_type": "code",
        "outputId": "69921058-63ac-4866-f623-18a858b1cbe9",
        "colab": {
          "base_uri": "https://localhost:8080/",
          "height": 1000
        }
      },
      "source": [
        "view_matrix(data)\n"
      ],
      "execution_count": 73,
      "outputs": [
        {
          "output_type": "display_data",
          "data": {
            "text/plain": [
              "'/usr/local/share/datasets/matrix_sorted.png'"
            ]
          },
          "metadata": {
            "tags": []
          }
        },
        {
          "output_type": "stream",
          "text": [
            "   index       id  vas_id    buy_time  ...  days  hour  is_holiday    diff1_l\n",
            "0      0   540968     8.0  1537131600  ...   259    21       False   0.000000\n",
            "1      1  1454121     4.0  1531688400  ...   196    21       False  21.149636\n",
            "2      2  2458816     1.0  1534107600  ...   224    21       False  21.151215\n",
            "3      3  3535012     5.0  1535922000  ...   245    21       False  21.152397\n",
            "4      4  1693214     1.0  1535922000  ...   245    21       False  21.152397\n",
            "\n",
            "[5 rows x 10 columns]\n",
            "<class 'pandas.core.frame.DataFrame'>\n",
            "RangeIndex: 831653 entries, 0 to 831652\n",
            "Data columns (total 10 columns):\n",
            " #   Column      Non-Null Count   Dtype  \n",
            "---  ------      --------------   -----  \n",
            " 0   index       831653 non-null  int64  \n",
            " 1   id          831653 non-null  int64  \n",
            " 2   vas_id      831653 non-null  float64\n",
            " 3   buy_time    831653 non-null  int64  \n",
            " 4   target      831653 non-null  float64\n",
            " 5   month       831653 non-null  int64  \n",
            " 6   days        831653 non-null  int64  \n",
            " 7   hour        831653 non-null  int64  \n",
            " 8   is_holiday  831653 non-null  bool   \n",
            " 9   diff1_l     831653 non-null  float64\n",
            "dtypes: bool(1), float64(3), int64(6)\n",
            "memory usage: 57.9 MB\n",
            "index         0\n",
            "id            0\n",
            "vas_id        0\n",
            "buy_time      0\n",
            "target        0\n",
            "month         0\n",
            "days          0\n",
            "hour          0\n",
            "is_holiday    0\n",
            "diff1_l       0\n",
            "dtype: int64 None\n",
            "===================================\n",
            "Дубли в строках     0\n",
            "Дубли в ID     25040\n"
          ],
          "name": "stdout"
        },
        {
          "output_type": "display_data",
          "data": {
            "image/png": "[encoded data removed]",
            "text/plain": [
              "<Figure size 1800x720 with 2 Axes>"
            ]
          },
          "metadata": {
            "tags": [],
            "needs_background": "light"
          }
        }
      ]
    },
    {
      "cell_type": "markdown",
      "metadata": {
        "id": "kKu1t8vkbxfJ",
        "colab_type": "text"
      },
      "source": [
        "Переведем булевое \"is_holiday\" в нумеричсую метку"
      ]
    },
    {
      "cell_type": "code",
      "metadata": {
        "id": "QTqNeiPelN65",
        "colab_type": "code",
        "colab": {}
      },
      "source": [
        "def prepare_label(df_train):\n",
        "    '''функция преобразующая объекты в метки'''\n",
        "    \n",
        "    le = LabelEncoder()\n",
        "\n",
        "    for col in df_train.columns:       \n",
        "        if df_train[col].dtypes=='bool':\n",
        "            df_train[col]=le.fit_transform(df_train[col].astype(float))\n",
        "    return df_train   "
      ],
      "execution_count": 0,
      "outputs": []
    },
    {
      "cell_type": "code",
      "metadata": {
        "id": "QOVs3I3IcFgb",
        "colab_type": "code",
        "outputId": "e0b654b3-7a5d-4f2d-8181-f8bc90e5a071",
        "colab": {
          "base_uri": "https://localhost:8080/",
          "height": 312
        }
      },
      "source": [
        "data = prepare_label(data)\n",
        "data.info()"
      ],
      "execution_count": 75,
      "outputs": [
        {
          "output_type": "stream",
          "text": [
            "<class 'pandas.core.frame.DataFrame'>\n",
            "RangeIndex: 831653 entries, 0 to 831652\n",
            "Data columns (total 10 columns):\n",
            " #   Column      Non-Null Count   Dtype  \n",
            "---  ------      --------------   -----  \n",
            " 0   index       831653 non-null  int64  \n",
            " 1   id          831653 non-null  int64  \n",
            " 2   vas_id      831653 non-null  float64\n",
            " 3   buy_time    831653 non-null  int64  \n",
            " 4   target      831653 non-null  float64\n",
            " 5   month       831653 non-null  int64  \n",
            " 6   days        831653 non-null  int64  \n",
            " 7   hour        831653 non-null  int64  \n",
            " 8   is_holiday  831653 non-null  int64  \n",
            " 9   diff1_l     831653 non-null  float64\n",
            "dtypes: float64(3), int64(7)\n",
            "memory usage: 63.5 MB\n"
          ],
          "name": "stdout"
        }
      ]
    },
    {
      "cell_type": "code",
      "metadata": {
        "id": "CbiQuv4og631",
        "colab_type": "code",
        "colab": {}
      },
      "source": [
        ""
      ],
      "execution_count": 0,
      "outputs": []
    },
    {
      "cell_type": "markdown",
      "metadata": {
        "id": "Pe6QL6a-9OUb",
        "colab_type": "text"
      },
      "source": [
        "Извлечем данные из 'features.csv 2(1).zip' и соединим их в тренировочный датасет "
      ]
    },
    {
      "cell_type": "code",
      "metadata": {
        "id": "_r0G2kZzcnp0",
        "colab_type": "code",
        "colab": {}
      },
      "source": [
        "chunksize = 10**7\n",
        "df_features = []\n",
        "for gm_chunk in pd.read_csv('/content/drive/My Drive/Megafon/features.csv',\n",
        "                            # '/content/drive/My Drive/Features/features.csv 2(1).zip',\n",
        "                            sep='\\t', \n",
        "                            chunksize=chunksize, \n",
        "                            # compression='zip', \n",
        "                            # nrows=200_000\n",
        "                            ):\n",
        "    df_features.append(data.merge(gm_chunk,  on=('id','buy_time')))"
      ],
      "execution_count": 0,
      "outputs": []
    },
    {
      "cell_type": "code",
      "metadata": {
        "id": "_13IPBN47mvM",
        "colab_type": "code",
        "outputId": "06934099-55bd-45e5-905c-e70b067ff4b5",
        "colab": {
          "base_uri": "https://localhost:8080/",
          "height": 850
        }
      },
      "source": [
        "df_merged = pd.concat(df_features)\n",
        "view_matrix(df_merged)"
      ],
      "execution_count": 77,
      "outputs": [
        {
          "output_type": "display_data",
          "data": {
            "text/plain": [
              "'/usr/local/share/datasets/matrix_sorted.png'"
            ]
          },
          "metadata": {
            "tags": []
          }
        },
        {
          "output_type": "stream",
          "text": [
            "   index       id  vas_id    buy_time  ...       249        250      251  252\n",
            "0    108  1631111     7.0  1544994000  ... -0.694428  14.824067 -0.45614  1.0\n",
            "1    634  4341324     1.0  1534712400  ... -0.694428 -12.175933 -0.45614  0.0\n",
            "2   1417   832134     1.0  1533502800  ... -0.694428 -12.175933 -0.45614  1.0\n",
            "3   1616  1232915     2.0  1546203600  ... -0.694428 -12.175933 -0.45614  0.0\n",
            "4   3690  1564770     1.0  1541365200  ... -0.694428 -12.175933 -0.45614  0.0\n",
            "\n",
            "[5 rows x 264 columns]\n",
            "<class 'pandas.core.frame.DataFrame'>\n",
            "Int64Index: 1864 entries, 0 to 1863\n",
            "Columns: 264 entries, index to 252\n",
            "dtypes: float64(256), int64(8)\n",
            "memory usage: 3.8 MB\n",
            "index       0\n",
            "id          0\n",
            "vas_id      0\n",
            "buy_time    0\n",
            "target      0\n",
            "           ..\n",
            "248         0\n",
            "249         0\n",
            "250         0\n",
            "251         0\n",
            "252         0\n",
            "Length: 264, dtype: int64 None\n",
            "===================================\n",
            "Дубли в строках     0\n",
            "Дубли в ID     0\n"
          ],
          "name": "stdout"
        },
        {
          "output_type": "display_data",
          "data": {
            "image/png": "[encoded data removed]",
            "text/plain": [
              "<Figure size 1800x720 with 2 Axes>"
            ]
          },
          "metadata": {
            "tags": [],
            "needs_background": "light"
          }
        }
      ]
    },
    {
      "cell_type": "markdown",
      "metadata": {
        "id": "u73pRb4fUTve",
        "colab_type": "text"
      },
      "source": [
        "Дубли устранились. \n",
        "Датасет готов к выбору признаков."
      ]
    },
    {
      "cell_type": "markdown",
      "metadata": {
        "id": "zQuga1cuT-cd",
        "colab_type": "text"
      },
      "source": [
        "\n",
        "\n",
        "# FEATURES\n"
      ]
    },
    {
      "cell_type": "code",
      "metadata": {
        "id": "OwBvLyjVCTeH",
        "colab_type": "code",
        "colab": {}
      },
      "source": [
        "# наборы для отбора признаков\n",
        "X_f=df_merged.drop(['target'], axis=1)\n",
        "y_f=df_merged['target']"
      ],
      "execution_count": 0,
      "outputs": []
    },
    {
      "cell_type": "markdown",
      "metadata": {
        "id": "boGfqByxuTdf",
        "colab_type": "text"
      },
      "source": [
        "Информационная ценность (IV) - один из наиболее полезных методов выбора важных переменных в прогнозной модели. Это помогает ранжировать переменные на основе их важности.\n",
        "Информационная ценность увеличивается по мере того, как ячейки / группы увеличиваются для независимой переменной. Хорошо подходит для бинарной логистической регрессии.\n",
        "\n",
        "Применим этот прием здесь."
      ]
    },
    {
      "cell_type": "code",
      "metadata": {
        "id": "bEA6ADJL1tPv",
        "colab_type": "code",
        "colab": {}
      },
      "source": [
        "# \n",
        "\n",
        "max_bin = 20\n",
        "force_bin = 3\n",
        "\n",
        "# define a binning function\n",
        "def mono_bin(Y, X, n = max_bin):\n",
        "    \n",
        "    df1 = pd.DataFrame({\"X\": X, \"Y\": Y})\n",
        "    justmiss = df1[['X','Y']][df1.X.isnull()]\n",
        "    notmiss = df1[['X','Y']][df1.X.notnull()]\n",
        "    r = 0\n",
        "    while np.abs(r) < 1:\n",
        "        try:\n",
        "            d1 = pd.DataFrame({\"X\": notmiss.X, \"Y\": notmiss.Y, \"Bucket\": pd.qcut(notmiss.X, n)})\n",
        "            d2 = d1.groupby('Bucket', as_index=True)\n",
        "            r, p = stats.spearmanr(d2.mean().X, d2.mean().Y)\n",
        "            n = n - 1 \n",
        "        except Exception as e:\n",
        "            n = n - 1\n",
        "\n",
        "    if len(d2) == 1:\n",
        "        n = force_bin         \n",
        "        bins = algos.quantile(notmiss.X, np.linspace(0, 1, n))\n",
        "        if len(np.unique(bins)) == 2:\n",
        "            bins = np.insert(bins, 0, 1)\n",
        "            bins[1] = bins[1]-(bins[1]/2)\n",
        "        d1 = pd.DataFrame({\"X\": notmiss.X, \"Y\": notmiss.Y, \"Bucket\": pd.cut(notmiss.X, np.unique(bins),include_lowest=True)}) \n",
        "        d2 = d1.groupby('Bucket', as_index=True)\n",
        "    \n",
        "    d3 = pd.DataFrame({},index=[])\n",
        "    d3[\"MIN_VALUE\"] = d2.min().X\n",
        "    d3[\"MAX_VALUE\"] = d2.max().X\n",
        "    d3[\"COUNT\"] = d2.count().Y\n",
        "    d3[\"EVENT\"] = d2.sum().Y\n",
        "    d3[\"NONEVENT\"] = d2.count().Y - d2.sum().Y\n",
        "    d3=d3.reset_index(drop=True)\n",
        "    \n",
        "    if len(justmiss.index) > 0:\n",
        "        d4 = pd.DataFrame({'MIN_VALUE':np.nan},index=[0])\n",
        "        d4[\"MAX_VALUE\"] = np.nan\n",
        "        d4[\"COUNT\"] = justmiss.count().Y\n",
        "        d4[\"EVENT\"] = justmiss.sum().Y\n",
        "        d4[\"NONEVENT\"] = justmiss.count().Y - justmiss.sum().Y\n",
        "        d3 = d3.append(d4,ignore_index=True)\n",
        "    \n",
        "    d3[\"EVENT_RATE\"] = d3.EVENT/d3.COUNT\n",
        "    d3[\"NON_EVENT_RATE\"] = d3.NONEVENT/d3.COUNT\n",
        "    d3[\"DIST_EVENT\"] = d3.EVENT/d3.sum().EVENT\n",
        "    d3[\"DIST_NON_EVENT\"] = d3.NONEVENT/d3.sum().NONEVENT\n",
        "    d3[\"WOE\"] = np.log(d3.DIST_EVENT/d3.DIST_NON_EVENT)\n",
        "    d3[\"IV\"] = (d3.DIST_EVENT-d3.DIST_NON_EVENT)*np.log(d3.DIST_EVENT/d3.DIST_NON_EVENT)\n",
        "    d3[\"VAR_NAME\"] = \"VAR\"\n",
        "    d3 = d3[['VAR_NAME','MIN_VALUE', 'MAX_VALUE', 'COUNT', 'EVENT', 'EVENT_RATE', 'NONEVENT', 'NON_EVENT_RATE', 'DIST_EVENT','DIST_NON_EVENT','WOE', 'IV']]       \n",
        "    d3 = d3.replace([np.inf, -np.inf], 0)\n",
        "    d3.IV = d3.IV.sum()\n",
        "    \n",
        "    return(d3)\n",
        "\n",
        "def char_bin(Y, X):\n",
        "        \n",
        "    df1 = pd.DataFrame({\"X\": X, \"Y\": Y})\n",
        "    justmiss = df1[['X','Y']][df1.X.isnull()]\n",
        "    notmiss = df1[['X','Y']][df1.X.notnull()]    \n",
        "    df2 = notmiss.groupby('X',as_index=True)\n",
        "    \n",
        "    d3 = pd.DataFrame({},index=[])\n",
        "    d3[\"COUNT\"] = df2.count().Y\n",
        "    d3[\"MIN_VALUE\"] = df2.sum().Y.index\n",
        "    d3[\"MAX_VALUE\"] = d3[\"MIN_VALUE\"]\n",
        "    d3[\"EVENT\"] = df2.sum().Y\n",
        "    d3[\"NONEVENT\"] = df2.count().Y - df2.sum().Y\n",
        "    \n",
        "    if len(justmiss.index) > 0:\n",
        "        d4 = pd.DataFrame({'MIN_VALUE':np.nan},index=[0])\n",
        "        d4[\"MAX_VALUE\"] = np.nan\n",
        "        d4[\"COUNT\"] = justmiss.count().Y\n",
        "        d4[\"EVENT\"] = justmiss.sum().Y\n",
        "        d4[\"NONEVENT\"] = justmiss.count().Y - justmiss.sum().Y\n",
        "        d3 = d3.append(d4,ignore_index=True)\n",
        "    \n",
        "    d3[\"EVENT_RATE\"] = d3.EVENT/d3.COUNT\n",
        "    d3[\"NON_EVENT_RATE\"] = d3.NONEVENT/d3.COUNT\n",
        "    d3[\"DIST_EVENT\"] = d3.EVENT/d3.sum().EVENT\n",
        "    d3[\"DIST_NON_EVENT\"] = d3.NONEVENT/d3.sum().NONEVENT\n",
        "    d3[\"WOE\"] = np.log(d3.DIST_EVENT/d3.DIST_NON_EVENT)\n",
        "    d3[\"IV\"] = (d3.DIST_EVENT-d3.DIST_NON_EVENT)*np.log(d3.DIST_EVENT/d3.DIST_NON_EVENT)\n",
        "    d3[\"VAR_NAME\"] = \"VAR\"\n",
        "    d3 = d3[['VAR_NAME','MIN_VALUE', 'MAX_VALUE', 'COUNT', 'EVENT', 'EVENT_RATE', 'NONEVENT', 'NON_EVENT_RATE', 'DIST_EVENT','DIST_NON_EVENT','WOE', 'IV']]      \n",
        "    d3 = d3.replace([np.inf, -np.inf], 0)\n",
        "    d3.IV = d3.IV.sum()\n",
        "    d3 = d3.reset_index(drop=True)\n",
        "    \n",
        "    return(d3)\n",
        "\n",
        "def data_vars(df1, target):\n",
        "# Code below throws AttributeError: 'NoneType' object has no attribute 'groups'    \n",
        "#     stack = traceback.extract_stack()\n",
        "#     filename, lineno, function_name, code = stack[-2]\n",
        "#     vars_name = re.compile(r'\\((.*?)\\).*$').search(code).groups()[0]\n",
        "#     final = (re.findall(r\"[\\w']+\", vars_name))[-1]\n",
        "    \n",
        "    x = df1.dtypes.index\n",
        "    count = -1\n",
        "    \n",
        "    for i in x:\n",
        "#         if i.upper() not in (final.upper()):\n",
        "        if True:\n",
        "            if np.issubdtype(df1[i], np.number) and len(Series.unique(df1[i])) > 2:\n",
        "                conv = mono_bin(target, df1[i])\n",
        "                conv[\"VAR_NAME\"] = i\n",
        "                count = count + 1\n",
        "            else:\n",
        "                conv = char_bin(target, df1[i])\n",
        "                conv[\"VAR_NAME\"] = i            \n",
        "                count = count + 1\n",
        "                \n",
        "            if count == 0:\n",
        "                iv_df = conv\n",
        "            else:\n",
        "                iv_df = iv_df.append(conv,ignore_index=True)\n",
        "    \n",
        "    iv = pd.DataFrame({'IV':iv_df.groupby('VAR_NAME').IV.max()})\n",
        "    iv = iv.reset_index()\n",
        "    return(iv_df,iv)"
      ],
      "execution_count": 0,
      "outputs": []
    },
    {
      "cell_type": "markdown",
      "metadata": {
        "id": "l9kdr93WU2-c",
        "colab_type": "text"
      },
      "source": [
        "Сделаем отбор признаков на основе их информационной важности."
      ]
    },
    {
      "cell_type": "code",
      "metadata": {
        "id": "-1wH-ACb3YNs",
        "colab_type": "code",
        "colab": {}
      },
      "source": [
        "iv_df, iv = data_vars(X_f, y_f)"
      ],
      "execution_count": 0,
      "outputs": []
    },
    {
      "cell_type": "code",
      "metadata": {
        "id": "9ymG6gCg2KbE",
        "colab_type": "code",
        "outputId": "3960e002-91a2-4c14-8b85-5f8053c63573",
        "colab": {
          "base_uri": "https://localhost:8080/",
          "height": 1000
        }
      },
      "source": [
        "IV = iv.sort_values('IV', ascending=False)\n",
        "plt.figure(figsize=(56,10))\n",
        "plt.bar(range(IV.shape[0]), IV['IV'], align='center')\n",
        "plt.xticks(range(IV.shape[0]), IV['VAR_NAME'].values, rotation=90)\n",
        "plt.title('Information Value')\n",
        "plt.show()\n",
        "\n",
        "# Выделим значимые признаки, для таких признаков IV не должно быть близко ни к 0, ни к 1\n",
        "significant_features = IV.loc[(IV['IV'] >= 0.01) & (IV['IV'] <= 0.8)]['VAR_NAME']\n",
        "print('Значимых признаков:', significant_features.nunique())\n",
        "FEATS = list(significant_features)\n",
        "FEATS\n",
        "# TARGET in FEATS"
      ],
      "execution_count": 81,
      "outputs": [
        {
          "output_type": "display_data",
          "data": {
            "image/png": "[encoded data removed]",
            "text/plain": [
              "<Figure size 4032x720 with 1 Axes>"
            ]
          },
          "metadata": {
            "tags": [],
            "needs_background": "light"
          }
        },
        {
          "output_type": "stream",
          "text": [
            "Значимых признаков: 100\n"
          ],
          "name": "stdout"
        },
        {
          "output_type": "execute_result",
          "data": {
            "text/plain": [
              "['buy_time',\n",
              " 'days',\n",
              " 'diff1_l',\n",
              " '250',\n",
              " '229',\n",
              " '247',\n",
              " '114',\n",
              " 'month',\n",
              " '38',\n",
              " '116',\n",
              " '28',\n",
              " '112',\n",
              " '39',\n",
              " '201',\n",
              " '115',\n",
              " '241',\n",
              " '227',\n",
              " '76',\n",
              " '19',\n",
              " '204',\n",
              " '21',\n",
              " '36',\n",
              " '158',\n",
              " '230',\n",
              " '248',\n",
              " '59',\n",
              " '131',\n",
              " '25',\n",
              " '236',\n",
              " '13',\n",
              " '233',\n",
              " '194',\n",
              " '148',\n",
              " '226',\n",
              " '190',\n",
              " '40',\n",
              " '113',\n",
              " '58',\n",
              " '243',\n",
              " '9',\n",
              " '237',\n",
              " '246',\n",
              " '29',\n",
              " '133',\n",
              " '104',\n",
              " '224',\n",
              " '213',\n",
              " '189',\n",
              " '5',\n",
              " '109',\n",
              " '135',\n",
              " '34',\n",
              " '205',\n",
              " '134',\n",
              " '3',\n",
              " '30',\n",
              " '18',\n",
              " '103',\n",
              " '1',\n",
              " '217',\n",
              " '209',\n",
              " '212',\n",
              " '169',\n",
              " '219',\n",
              " '128',\n",
              " '191',\n",
              " '215',\n",
              " '130',\n",
              " '126',\n",
              " '238',\n",
              " '96',\n",
              " '41',\n",
              " '56',\n",
              " '144',\n",
              " '123',\n",
              " '20',\n",
              " '14',\n",
              " '160',\n",
              " '37',\n",
              " '8',\n",
              " '240',\n",
              " '156',\n",
              " '12',\n",
              " '72',\n",
              " '147',\n",
              " '106',\n",
              " '157',\n",
              " '244',\n",
              " 'index',\n",
              " '183',\n",
              " '108',\n",
              " '6',\n",
              " '234',\n",
              " '125',\n",
              " '225',\n",
              " '143',\n",
              " '165',\n",
              " '26',\n",
              " '251',\n",
              " '48']"
            ]
          },
          "metadata": {
            "tags": []
          },
          "execution_count": 81
        }
      ]
    },
    {
      "cell_type": "markdown",
      "metadata": {
        "id": "LErrBMpRVOmw",
        "colab_type": "text"
      },
      "source": [
        "Преобразуем признаки содержащие только 10 и менее уникальных значений в категорийные \n"
      ]
    },
    {
      "cell_type": "code",
      "metadata": {
        "id": "xkFBbxGAzD7z",
        "colab_type": "code",
        "outputId": "5479c9f1-39b2-4795-aa9b-162a182c22c6",
        "colab": {
          "base_uri": "https://localhost:8080/",
          "height": 34
        }
      },
      "source": [
        "cat_val_uniq = 10\n",
        "\n",
        "cat_val_share = cat_val_uniq / df_merged.shape[0]\n",
        "cat_val_share, df_merged.shape[0]"
      ],
      "execution_count": 82,
      "outputs": [
        {
          "output_type": "execute_result",
          "data": {
            "text/plain": [
              "(0.00536480686695279, 1864)"
            ]
          },
          "metadata": {
            "tags": []
          },
          "execution_count": 82
        }
      ]
    },
    {
      "cell_type": "markdown",
      "metadata": {
        "id": "9VaueWQG5msw",
        "colab_type": "text"
      },
      "source": [
        "Разделим признаки на нумерические и категорийные."
      ]
    },
    {
      "cell_type": "code",
      "metadata": {
        "id": "rgNc2uxWV_IW",
        "colab_type": "code",
        "outputId": "48f2bfad-dcbb-45e9-984a-b4ec618a6117",
        "colab": {
          "base_uri": "https://localhost:8080/",
          "height": 1000
        }
      },
      "source": [
        "\n",
        "converted_obj = pd.DataFrame()\n",
        "converted_num = pd.DataFrame()\n",
        "for col in df_merged[FEATS].columns:\n",
        "    num_unique_values = len(df_merged[col].unique())\n",
        "    num_total_values = len(df_merged[col])\n",
        "    if num_unique_values / num_total_values < cat_val_share: #0.0053\n",
        "        converted_obj.loc[:,col] = df_merged[col].astype('category')\n",
        "    else:\n",
        "        converted_num.loc[:,col] = df_merged[col].astype('float64', 'int64')\n",
        "\n",
        "converted_obj.info()\n",
        "converted_num.info() #, list(converted_obj.select_dtypes(include= 'category').drop(['target'], axis=1))\n",
        "CAT_FEATS=list(converted_obj.select_dtypes(include= 'category'))\n",
        "NUM_FEATS=list(converted_num.select_dtypes(include= 'number'))\n",
        "# NUM_FEATS=list(converted_num.select_dtypes(include= 'number').drop(['buy_time'], axis=1))\n",
        "# NUM_FEATS\n",
        "CAT_FEATS\n",
        "# TARGET in CAT_FEATS, TARGET in NUM_FEATS, TARGET in FEATS"
      ],
      "execution_count": 83,
      "outputs": [
        {
          "output_type": "stream",
          "text": [
            "<class 'pandas.core.frame.DataFrame'>\n",
            "Int64Index: 1864 entries, 0 to 1863\n",
            "Data columns (total 13 columns):\n",
            " #   Column  Non-Null Count  Dtype   \n",
            "---  ------  --------------  -----   \n",
            " 0   month   1864 non-null   category\n",
            " 1   28      1864 non-null   category\n",
            " 2   201     1864 non-null   category\n",
            " 3   204     1864 non-null   category\n",
            " 4   131     1864 non-null   category\n",
            " 5   194     1864 non-null   category\n",
            " 6   29      1864 non-null   category\n",
            " 7   189     1864 non-null   category\n",
            " 8   205     1864 non-null   category\n",
            " 9   30      1864 non-null   category\n",
            " 10  212     1864 non-null   category\n",
            " 11  215     1864 non-null   category\n",
            " 12  26      1864 non-null   category\n",
            "dtypes: category(13)\n",
            "memory usage: 40.4 KB\n",
            "<class 'pandas.core.frame.DataFrame'>\n",
            "Int64Index: 1864 entries, 0 to 1863\n",
            "Data columns (total 87 columns):\n",
            " #   Column    Non-Null Count  Dtype  \n",
            "---  ------    --------------  -----  \n",
            " 0   buy_time  1864 non-null   float64\n",
            " 1   days      1864 non-null   float64\n",
            " 2   diff1_l   1864 non-null   float64\n",
            " 3   250       1864 non-null   float64\n",
            " 4   229       1864 non-null   float64\n",
            " 5   247       1864 non-null   float64\n",
            " 6   114       1864 non-null   float64\n",
            " 7   38        1864 non-null   float64\n",
            " 8   116       1864 non-null   float64\n",
            " 9   112       1864 non-null   float64\n",
            " 10  39        1864 non-null   float64\n",
            " 11  115       1864 non-null   float64\n",
            " 12  241       1864 non-null   float64\n",
            " 13  227       1864 non-null   float64\n",
            " 14  76        1864 non-null   float64\n",
            " 15  19        1864 non-null   float64\n",
            " 16  21        1864 non-null   float64\n",
            " 17  36        1864 non-null   float64\n",
            " 18  158       1864 non-null   float64\n",
            " 19  230       1864 non-null   float64\n",
            " 20  248       1864 non-null   float64\n",
            " 21  59        1864 non-null   float64\n",
            " 22  25        1864 non-null   float64\n",
            " 23  236       1864 non-null   float64\n",
            " 24  13        1864 non-null   float64\n",
            " 25  233       1864 non-null   float64\n",
            " 26  148       1864 non-null   float64\n",
            " 27  226       1864 non-null   float64\n",
            " 28  190       1864 non-null   float64\n",
            " 29  40        1864 non-null   float64\n",
            " 30  113       1864 non-null   float64\n",
            " 31  58        1864 non-null   float64\n",
            " 32  243       1864 non-null   float64\n",
            " 33  9         1864 non-null   float64\n",
            " 34  237       1864 non-null   float64\n",
            " 35  246       1864 non-null   float64\n",
            " 36  133       1864 non-null   float64\n",
            " 37  104       1864 non-null   float64\n",
            " 38  224       1864 non-null   float64\n",
            " 39  213       1864 non-null   float64\n",
            " 40  5         1864 non-null   float64\n",
            " 41  109       1864 non-null   float64\n",
            " 42  135       1864 non-null   float64\n",
            " 43  34        1864 non-null   float64\n",
            " 44  134       1864 non-null   float64\n",
            " 45  3         1864 non-null   float64\n",
            " 46  18        1864 non-null   float64\n",
            " 47  103       1864 non-null   float64\n",
            " 48  1         1864 non-null   float64\n",
            " 49  217       1864 non-null   float64\n",
            " 50  209       1864 non-null   float64\n",
            " 51  169       1864 non-null   float64\n",
            " 52  219       1864 non-null   float64\n",
            " 53  128       1864 non-null   float64\n",
            " 54  191       1864 non-null   float64\n",
            " 55  130       1864 non-null   float64\n",
            " 56  126       1864 non-null   float64\n",
            " 57  238       1864 non-null   float64\n",
            " 58  96        1864 non-null   float64\n",
            " 59  41        1864 non-null   float64\n",
            " 60  56        1864 non-null   float64\n",
            " 61  144       1864 non-null   float64\n",
            " 62  123       1864 non-null   float64\n",
            " 63  20        1864 non-null   float64\n",
            " 64  14        1864 non-null   float64\n",
            " 65  160       1864 non-null   float64\n",
            " 66  37        1864 non-null   float64\n",
            " 67  8         1864 non-null   float64\n",
            " 68  240       1864 non-null   float64\n",
            " 69  156       1864 non-null   float64\n",
            " 70  12        1864 non-null   float64\n",
            " 71  72        1864 non-null   float64\n",
            " 72  147       1864 non-null   float64\n",
            " 73  106       1864 non-null   float64\n",
            " 74  157       1864 non-null   float64\n",
            " 75  244       1864 non-null   float64\n",
            " 76  index     1864 non-null   float64\n",
            " 77  183       1864 non-null   float64\n",
            " 78  108       1864 non-null   float64\n",
            " 79  6         1864 non-null   float64\n",
            " 80  234       1864 non-null   float64\n",
            " 81  125       1864 non-null   float64\n",
            " 82  225       1864 non-null   float64\n",
            " 83  143       1864 non-null   float64\n",
            " 84  165       1864 non-null   float64\n",
            " 85  251       1864 non-null   float64\n",
            " 86  48        1864 non-null   float64\n",
            "dtypes: float64(87)\n",
            "memory usage: 1.3 MB\n"
          ],
          "name": "stdout"
        },
        {
          "output_type": "execute_result",
          "data": {
            "text/plain": [
              "['month',\n",
              " '28',\n",
              " '201',\n",
              " '204',\n",
              " '131',\n",
              " '194',\n",
              " '29',\n",
              " '189',\n",
              " '205',\n",
              " '30',\n",
              " '212',\n",
              " '215',\n",
              " '26']"
            ]
          },
          "metadata": {
            "tags": []
          },
          "execution_count": 83
        }
      ]
    },
    {
      "cell_type": "code",
      "metadata": {
        "id": "2f_FrrgtNem9",
        "colab_type": "code",
        "colab": {}
      },
      "source": [
        "\n",
        "# cat_si_step = ('si', SimpleImputer(strategy='constant', fill_value='MISSING'))\n",
        "cat_si_step = ('si', SimpleImputer(strategy='constant'))\n",
        "cat_ohe_step = ('ohe', OneHotEncoder(sparse=False, handle_unknown='ignore'))\n",
        "cat_steps = [cat_si_step, cat_ohe_step]\n",
        "cat_pipe = Pipeline(cat_steps)\n",
        "\n",
        "num_si_step = ('si', SimpleImputer(strategy='median'))\n",
        "num_ss_step = ('ss', StandardScaler())\n",
        "num_steps = [num_si_step, num_ss_step]\n",
        "\n",
        "num_pipe = Pipeline(num_steps)\n"
      ],
      "execution_count": 0,
      "outputs": []
    },
    {
      "cell_type": "code",
      "metadata": {
        "id": "Gq2GplSJLk2S",
        "colab_type": "code",
        "outputId": "8f5c808f-bbb7-405b-f724-8cb53ff16a2d",
        "colab": {
          "base_uri": "https://localhost:8080/",
          "height": 34
        }
      },
      "source": [
        "# обьединение\n",
        "\n",
        "transformers = [('cat', cat_pipe, CAT_FEATS),\n",
        "                ('num', num_pipe, NUM_FEATS)]\n",
        "\n",
        "ct_all = ColumnTransformer(transformers=transformers)\n",
        "\n",
        "X = ct_all.fit_transform(df_merged[FEATS])\n",
        "X.shape"
      ],
      "execution_count": 85,
      "outputs": [
        {
          "output_type": "execute_result",
          "data": {
            "text/plain": [
              "(1864, 139)"
            ]
          },
          "metadata": {
            "tags": []
          },
          "execution_count": 85
        }
      ]
    },
    {
      "cell_type": "code",
      "metadata": {
        "id": "alMCVe8QjL7e",
        "colab_type": "code",
        "colab": {
          "base_uri": "https://localhost:8080/",
          "height": 34
        },
        "outputId": "62fcc209-3d7e-44fb-e75f-0dc972a49e8e"
      },
      "source": [
        "# X = df_merged.drop(['target'], axis=1)\n",
        "y = df_merged['target']\n",
        "# X.info()\n",
        "TARGET in X"
      ],
      "execution_count": 86,
      "outputs": [
        {
          "output_type": "execute_result",
          "data": {
            "text/plain": [
              "False"
            ]
          },
          "metadata": {
            "tags": []
          },
          "execution_count": 86
        }
      ]
    },
    {
      "cell_type": "markdown",
      "metadata": {
        "id": "MsHd9h5-eZrT",
        "colab_type": "text"
      },
      "source": [
        "# SPLIT & BALANCE"
      ]
    },
    {
      "cell_type": "code",
      "metadata": {
        "id": "1QyOtnfH4FVV",
        "colab_type": "code",
        "outputId": "60f3b636-456f-4b8c-e6e0-38ee8c5afe32",
        "colab": {
          "base_uri": "https://localhost:8080/",
          "height": 34
        }
      },
      "source": [
        "print('Before sampled dataset shape %s' % Counter(y))"
      ],
      "execution_count": 87,
      "outputs": [
        {
          "output_type": "stream",
          "text": [
            "Before sampled dataset shape Counter({0.0: 1734, 1.0: 130})\n"
          ],
          "name": "stdout"
        }
      ]
    },
    {
      "cell_type": "markdown",
      "metadata": {
        "id": "FgSmEa04a-yn",
        "colab_type": "text"
      },
      "source": [
        "Есть дисбаланс классов таргете. "
      ]
    },
    {
      "cell_type": "markdown",
      "metadata": {
        "id": "j2cIxgxZF5Er",
        "colab_type": "text"
      },
      "source": [
        "Разобьём и отбалансируем подготовленнные наборы"
      ]
    },
    {
      "cell_type": "code",
      "metadata": {
        "id": "SbrnmYlE9imp",
        "colab_type": "code",
        "outputId": "8d9c30a4-b183-4a59-be12-c532e5f85be4",
        "colab": {
          "base_uri": "https://localhost:8080/",
          "height": 69
        }
      },
      "source": [
        "X_train_WOE, X_test_WOE, y_train_WOE, y_test_WOE = train_test_split(X, \n",
        "                                                                    y, \n",
        "                                                                    test_size=0.6,\n",
        "                                                                    shuffle=True, \n",
        "                                                                    stratify=y, \n",
        "                                                                    random_state=100)\n",
        "X_train_WOE_balanced, y_train_WOE_balanced = SMOTE(random_state=42, ratio=.45).fit_sample(X_train_WOE, y_train_WOE)\n",
        "print('Before sampled dataset shape %s' % Counter(y_train_WOE))\n",
        "print('After sampled dataset shape %s' % Counter(y_train_WOE_balanced))\n",
        "print(X_train_WOE_balanced.shape, y_train_WOE_balanced.shape)\n"
      ],
      "execution_count": 88,
      "outputs": [
        {
          "output_type": "stream",
          "text": [
            "Before sampled dataset shape Counter({0.0: 693, 1.0: 52})\n",
            "After sampled dataset shape Counter({0.0: 693, 1.0: 311})\n",
            "(1004, 139) (1004,)\n"
          ],
          "name": "stdout"
        }
      ]
    },
    {
      "cell_type": "code",
      "metadata": {
        "id": "CbBWPuqPNRQ2",
        "colab_type": "code",
        "colab": {}
      },
      "source": [
        "def evaluation(y_true, y_pred, y_prob):\n",
        "    precision = precision_score(y_true=y_true, y_pred=y_pred)\n",
        "    recall = recall_score(y_true=y_true, y_pred=y_pred)\n",
        "    f1 = f1_score(y_true=y_true, y_pred=y_pred)\n",
        "    ll = log_loss(y_true=y_true, y_pred=y_prob)\n",
        "    roc_auc = roc_auc_score(y_true=y_true, y_score=y_prob)\n",
        "    print('Precision: {}'.format(precision))\n",
        "    print('Recall: {}'.format(recall))\n",
        "    print('F1: {}'.format(f1))\n",
        "    print('Log Loss: {}'.format(ll)) \n",
        "    print('ROC AUC: {}'.format(roc_auc)) \n",
        "    return precision, recall, f1, ll, roc_auc"
      ],
      "execution_count": 0,
      "outputs": []
    },
    {
      "cell_type": "code",
      "metadata": {
        "id": "OrwdEywrQj1_",
        "colab_type": "code",
        "colab": {}
      },
      "source": [
        "def get_classification_report(y_train_true, y_train_pred, y_test_true, y_test_pred):\n",
        "    print('TRAIN\\n\\n' + classification_report(y_train_true, y_train_pred))\n",
        "    print('TEST\\n\\n' + classification_report(y_test_true, y_test_pred))\n",
        "    print('CONFUSION MATRIX\\n')\n",
        "    print(pd.crosstab(y_test_true, y_test_pred))"
      ],
      "execution_count": 0,
      "outputs": []
    },
    {
      "cell_type": "markdown",
      "metadata": {
        "id": "CQC4g1g9kFUs",
        "colab_type": "text"
      },
      "source": [
        "# MODELS\n"
      ]
    },
    {
      "cell_type": "markdown",
      "metadata": {
        "id": "zxNRyxrKwykD",
        "colab_type": "text"
      },
      "source": [
        "В рамках этой работы посмотрим как отработают три модели - LogisticRegression, XGBClassifer и "
      ]
    },
    {
      "cell_type": "code",
      "metadata": {
        "id": "TmFD5Dtvj7Oi",
        "colab_type": "code",
        "colab": {}
      },
      "source": [
        "RANDOM_STATE=42"
      ],
      "execution_count": 0,
      "outputs": []
    },
    {
      "cell_type": "code",
      "metadata": {
        "id": "qoisP81qNvNu",
        "colab_type": "code",
        "outputId": "9e6abafb-332a-48da-8ab6-4a61f1c254ab",
        "colab": {
          "base_uri": "https://localhost:8080/",
          "height": 625
        }
      },
      "source": [
        "%%time\n",
        "logit = LogisticRegression(random_state=42)\n",
        "logit.fit(X_train_WOE_balanced, y_train_WOE_balanced)\n",
        "# logit.fit(X_resampled, y_resampled)\n",
        "\n",
        "\n",
        "predict_proba_test = logit.predict_proba(X_test_WOE)\n",
        "predict_train = logit.predict(X_train_WOE)\n",
        "predict_test = logit.predict(X_test_WOE)\n",
        "\n",
        "\n",
        "get_classification_report(y_train_WOE, predict_train, y_test_WOE, predict_test)\n",
        "precision_test, recall_test, f1_test, log_loss_test, roc_auc_test = \\\n",
        "    evaluation(y_test_WOE, predict_test, predict_proba_test[:, 1])"
      ],
      "execution_count": 92,
      "outputs": [
        {
          "output_type": "stream",
          "text": [
            "TRAIN\n",
            "\n",
            "              precision    recall  f1-score   support\n",
            "\n",
            "         0.0       0.96      0.92      0.94       693\n",
            "         1.0       0.34      0.52      0.41        52\n",
            "\n",
            "    accuracy                           0.90       745\n",
            "   macro avg       0.65      0.72      0.68       745\n",
            "weighted avg       0.92      0.90      0.91       745\n",
            "\n",
            "TEST\n",
            "\n",
            "              precision    recall  f1-score   support\n",
            "\n",
            "         0.0       0.94      0.87      0.90      1041\n",
            "         1.0       0.11      0.22      0.14        78\n",
            "\n",
            "    accuracy                           0.82      1119\n",
            "   macro avg       0.52      0.54      0.52      1119\n",
            "weighted avg       0.88      0.82      0.85      1119\n",
            "\n",
            "CONFUSION MATRIX\n",
            "\n",
            "col_0   0.0  1.0\n",
            "target          \n",
            "0.0     901  140\n",
            "1.0      61   17\n",
            "Precision: 0.10828025477707007\n",
            "Recall: 0.21794871794871795\n",
            "F1: 0.1446808510638298\n",
            "Log Loss: 0.5555691661646747\n",
            "ROC AUC: 0.5906672578142318\n",
            "CPU times: user 115 ms, sys: 62.9 ms, total: 178 ms\n",
            "Wall time: 91.2 ms\n"
          ],
          "name": "stdout"
        }
      ]
    },
    {
      "cell_type": "code",
      "metadata": {
        "id": "UuHnc8JMNRMl",
        "colab_type": "code",
        "colab": {}
      },
      "source": [
        "def run_grid_search(estimator, X, y, params_grid, cv, scoring='roc_auc'):\n",
        "    '''отбирает лучшие параметры модели '''\n",
        "    # gsc = GridSearchCV(estimator, params_grid, scoring=scoring, cv=cv, n_jobs=-1)\n",
        "    gsc = RandomizedSearchCV(estimator, params_grid, scoring=scoring, cv=cv, n_jobs=-1)\n",
        "\n",
        "    gsc.fit(X, y)\n",
        "    print(\"Best %s score: %.2f\" % (scoring, gsc.best_score_))\n",
        "    print()\n",
        "    print(\"Best parameters set found on development set:\")\n",
        "    print()\n",
        "    print(gsc.best_params_)\n",
        "    print()\n",
        "    print(\"Grid scores on development set:\")\n",
        "    print()\n",
        "\n",
        "    for i, params in enumerate(gsc.cv_results_['params']):\n",
        "        print(\"%0.3f (+/-%0.03f) for %r\"\n",
        "              % (gsc.cv_results_['mean_test_score'][i], gsc.cv_results_['std_test_score'][i] * 2, params))\n",
        "\n",
        "    print()\n",
        "    \n",
        "    return gsc, gsc.best_params_"
      ],
      "execution_count": 0,
      "outputs": []
    },
    {
      "cell_type": "code",
      "metadata": {
        "id": "cAik-z1UNRIa",
        "colab_type": "code",
        "colab": {}
      },
      "source": [
        "from sklearn.model_selection import KFold\n",
        "from sklearn.model_selection import cross_validate\n",
        "\n",
        "kfold_cv = KFold(n_splits=5, shuffle=True, random_state=RANDOM_STATE)"
      ],
      "execution_count": 0,
      "outputs": []
    },
    {
      "cell_type": "markdown",
      "metadata": {
        "id": "5f72EFv7EaZz",
        "colab_type": "text"
      },
      "source": [
        "Подберем параметры для модели LogisticRegression\n"
      ]
    },
    {
      "cell_type": "code",
      "metadata": {
        "id": "hBd59yOvNQ_j",
        "colab_type": "code",
        "colab": {}
      },
      "source": [
        "\n",
        "param_grid ={ \n",
        "'penalty':['l1', 'l2', 'elasticnet', 'none'], \n",
        "'C':[0.5, 1.0, 2.0],\n",
        "'max_iter': [50,100,150,200],\n",
        "'intercept_scaling' :[0.5,1.0,1.5, 2.0],\n",
        "'solver':['newton-cg', 'lbfgs', 'liblinear', 'sag', 'saga'],\n",
        "'random_state':[10,50,100,200,300,400]\n",
        "}\n",
        "\n",
        "\n",
        "# log_gsc, log_gsc.best_params_ = run_grid_search(logit, X_train_WOE_balanced, y_train_WOE_balanced, param_grid, kfold_cv)"
      ],
      "execution_count": 0,
      "outputs": []
    },
    {
      "cell_type": "markdown",
      "metadata": {
        "id": "JkVKgTXb2Jka",
        "colab_type": "text"
      },
      "source": [
        "Применим отобранные параметры к LogisticRegression"
      ]
    },
    {
      "cell_type": "code",
      "metadata": {
        "id": "WkM7tslKNQ5F",
        "colab_type": "code",
        "outputId": "6e59c993-51bf-4c3d-9d55-a24f43eb9978",
        "colab": {
          "base_uri": "https://localhost:8080/",
          "height": 590
        }
      },
      "source": [
        "\n",
        "last_model =LogisticRegression(solver='newton-cg', \n",
        "                               penalty='l2', \n",
        "                               max_iter=200, \n",
        "                               intercept_scaling=1.5,\n",
        "                               C=0.5, \n",
        "                               random_state=200)\n",
        "last_model.fit(X_train_WOE_balanced, y_train_WOE_balanced)\n",
        "\n",
        "\n",
        "y_train_pred_c = last_model.predict(X_train_WOE)\n",
        "y_test_pred_c= last_model.predict(X_test_WOE)\n",
        "y_test_pred_probs_c = last_model.predict_proba(X_test_WOE)\n",
        "\n",
        "get_classification_report(y_train_WOE, y_train_pred_c, y_test_WOE, y_test_pred_c)\n",
        "precision_test, recall_test, f1_test, log_loss_test, roc_auc_test = \\\n",
        "    evaluation(y_test_WOE, y_test_pred_c, y_test_pred_probs_c[:, 1])\n",
        "\n"
      ],
      "execution_count": 96,
      "outputs": [
        {
          "output_type": "stream",
          "text": [
            "TRAIN\n",
            "\n",
            "              precision    recall  f1-score   support\n",
            "\n",
            "         0.0       0.96      0.92      0.94       693\n",
            "         1.0       0.35      0.54      0.42        52\n",
            "\n",
            "    accuracy                           0.90       745\n",
            "   macro avg       0.65      0.73      0.68       745\n",
            "weighted avg       0.92      0.90      0.91       745\n",
            "\n",
            "TEST\n",
            "\n",
            "              precision    recall  f1-score   support\n",
            "\n",
            "         0.0       0.94      0.88      0.91      1041\n",
            "         1.0       0.11      0.19      0.14        78\n",
            "\n",
            "    accuracy                           0.83      1119\n",
            "   macro avg       0.52      0.54      0.52      1119\n",
            "weighted avg       0.88      0.83      0.85      1119\n",
            "\n",
            "CONFUSION MATRIX\n",
            "\n",
            "col_0   0.0  1.0\n",
            "target          \n",
            "0.0     915  126\n",
            "1.0      63   15\n",
            "Precision: 0.10638297872340426\n",
            "Recall: 0.19230769230769232\n",
            "F1: 0.136986301369863\n",
            "Log Loss: 0.49737681376400356\n",
            "ROC AUC: 0.5997561516293505\n"
          ],
          "name": "stdout"
        }
      ]
    },
    {
      "cell_type": "markdown",
      "metadata": {
        "id": "I2wzBpA3RGfB",
        "colab_type": "text"
      },
      "source": [
        "Посмотрим как отработает XGBoost"
      ]
    },
    {
      "cell_type": "code",
      "metadata": {
        "id": "uq78OfcjYYkM",
        "colab_type": "code",
        "outputId": "9c452152-d62b-49e8-f8b9-cff7928d76d4",
        "colab": {
          "base_uri": "https://localhost:8080/",
          "height": 590
        }
      },
      "source": [
        "\n",
        "\n",
        "clf = xgb.XGBClassifier(random_state=42, max_depth=6)\n",
        "clf.fit(X_train_WOE_balanced, y_train_WOE_balanced)\n",
        "\n",
        "\n",
        "y_train_pred_x = clf.predict(X_train_WOE)\n",
        "y_test_pred_x= clf.predict(X_test_WOE)\n",
        "y_test_pred_probs_x = clf.predict_proba(X_test_WOE)\n",
        "\n",
        "get_classification_report(y_train_WOE, y_train_pred_c, y_test_WOE, y_test_pred_x)\n",
        "precision_test, recall_test, f1_test, log_loss_test, roc_auc_test = \\\n",
        "    evaluation(y_test_WOE, y_test_pred_x, y_test_pred_probs_x[:, 1])"
      ],
      "execution_count": 97,
      "outputs": [
        {
          "output_type": "stream",
          "text": [
            "TRAIN\n",
            "\n",
            "              precision    recall  f1-score   support\n",
            "\n",
            "         0.0       0.96      0.92      0.94       693\n",
            "         1.0       0.35      0.54      0.42        52\n",
            "\n",
            "    accuracy                           0.90       745\n",
            "   macro avg       0.65      0.73      0.68       745\n",
            "weighted avg       0.92      0.90      0.91       745\n",
            "\n",
            "TEST\n",
            "\n",
            "              precision    recall  f1-score   support\n",
            "\n",
            "         0.0       0.93      0.99      0.96      1041\n",
            "         1.0       0.30      0.08      0.12        78\n",
            "\n",
            "    accuracy                           0.92      1119\n",
            "   macro avg       0.62      0.53      0.54      1119\n",
            "weighted avg       0.89      0.92      0.90      1119\n",
            "\n",
            "CONFUSION MATRIX\n",
            "\n",
            "col_0    0.0  1.0\n",
            "target           \n",
            "0.0     1027   14\n",
            "1.0       72    6\n",
            "Precision: 0.3\n",
            "Recall: 0.07692307692307693\n",
            "F1: 0.12244897959183675\n",
            "Log Loss: 0.30576073020740124\n",
            "ROC AUC: 0.58166457301904\n"
          ],
          "name": "stdout"
        }
      ]
    },
    {
      "cell_type": "code",
      "metadata": {
        "id": "nkT_IQGsZAiW",
        "colab_type": "code",
        "colab": {}
      },
      "source": [
        "# param_grid ={ 'gamma':[0,0.5,1.,1,5,2.],\n",
        "#                'max_depth':[2,4,6,8,10],\n",
        "#               'n_estimators':[100,200,300,400,500,1000],\n",
        "#               'learning_rate':[0.01,0.05,0.1,0.2,0.3],\n",
        "#               'nthread':[1,5,10],\n",
        "#               'subsample':[.5,1.,1.5],\n",
        "#               'colsample_bytree':[0.5,1.,1.5,2.0,2,5],\n",
        "#               'min_child_weight':[1,2,3,4,5,6,7,8,9],\n",
        "#               'reg_alpha':[0.,.5,1.,2.,3.],\n",
        "#               'reg_lambda':[0.],\n",
        "#               'seed':[42,102],\n",
        "#               'missing':[1e10]\n",
        "# }\n",
        "\n",
        "\n",
        "# xgb_gsc = run_grid_search(clf, X_train_WOE_balanced, y_train_WOE_balanced, param_grid, kfold_cv)"
      ],
      "execution_count": 0,
      "outputs": []
    },
    {
      "cell_type": "code",
      "metadata": {
        "id": "cfSGdEHJiKmw",
        "colab_type": "code",
        "outputId": "3845a028-294f-4f16-ed6f-c8c00a8bbcfa",
        "colab": {
          "base_uri": "https://localhost:8080/",
          "height": 590
        }
      },
      "source": [
        "clf_fin = xgb.XGBClassifier (gamma=1.,\n",
        "                            subsample=1.0, \n",
        "                            seed =102, \n",
        "                            reg_lambda=0.0, \n",
        "                            reg_alpha=0.0, \n",
        "                            nthread=1,\n",
        "                            n_estimators=100, \n",
        "                            missing=10000000000.0, \n",
        "                            min_child_weight=4, \n",
        "                            max_depth=4, \n",
        "                            learning_rate=0.3, \n",
        "                            colsample_bytree =0.5)\n",
        "clf_fin.fit(X_train_WOE_balanced, y_train_WOE_balanced)\n",
        "\n",
        "\n",
        "y_train_pred_f = clf_fin.predict(X_train_WOE)\n",
        "y_test_pred_f= clf_fin.predict(X_test_WOE)\n",
        "y_test_pred_probs_f = clf_fin.predict_proba(X_test_WOE)\n",
        "\n",
        "get_classification_report(y_train_WOE, y_train_pred_f, y_test_WOE, y_test_pred_f)\n",
        "precision_test, recall_test, f1_test, log_loss_test, roc_auc_test = \\\n",
        "    evaluation(y_test_WOE, y_test_pred_f, y_test_pred_probs_f[:, 1])"
      ],
      "execution_count": 99,
      "outputs": [
        {
          "output_type": "stream",
          "text": [
            "TRAIN\n",
            "\n",
            "              precision    recall  f1-score   support\n",
            "\n",
            "         0.0       1.00      1.00      1.00       693\n",
            "         1.0       1.00      0.94      0.97        52\n",
            "\n",
            "    accuracy                           1.00       745\n",
            "   macro avg       1.00      0.97      0.98       745\n",
            "weighted avg       1.00      1.00      1.00       745\n",
            "\n",
            "TEST\n",
            "\n",
            "              precision    recall  f1-score   support\n",
            "\n",
            "         0.0       0.93      0.99      0.96      1041\n",
            "         1.0       0.25      0.06      0.10        78\n",
            "\n",
            "    accuracy                           0.92      1119\n",
            "   macro avg       0.59      0.52      0.53      1119\n",
            "weighted avg       0.89      0.92      0.90      1119\n",
            "\n",
            "CONFUSION MATRIX\n",
            "\n",
            "col_0    0.0  1.0\n",
            "target           \n",
            "0.0     1026   15\n",
            "1.0       73    5\n",
            "Precision: 0.25\n",
            "Recall: 0.0641025641025641\n",
            "F1: 0.1020408163265306\n",
            "Log Loss: 0.3037092256996594\n",
            "ROC AUC: 0.6227862755240277\n"
          ],
          "name": "stdout"
        }
      ]
    },
    {
      "cell_type": "markdown",
      "metadata": {
        "id": "9Dg5XRURDHVo",
        "colab_type": "text"
      },
      "source": [
        "Модель упорно определяет ложными(37+5) меток. Идентификация 'target':1.0 проходит неудовлетворительно"
      ]
    },
    {
      "cell_type": "code",
      "metadata": {
        "id": "O3KoQzrjSPqR",
        "colab_type": "code",
        "colab": {}
      },
      "source": [
        "from sklearn.naive_bayes import MultinomialNB\n",
        "from sklearn.naive_bayes import ComplementNB\n",
        "from sklearn.naive_bayes import BernoulliNB"
      ],
      "execution_count": 0,
      "outputs": []
    },
    {
      "cell_type": "code",
      "metadata": {
        "id": "RoayBAELWsgw",
        "colab_type": "code",
        "colab": {}
      },
      "source": [
        "para=({'fit_prior': False, 'class_prior': None, 'binarize': 0.0, 'alpha': 0.1})"
      ],
      "execution_count": 0,
      "outputs": []
    },
    {
      "cell_type": "code",
      "metadata": {
        "id": "T9xvTsEdRY0p",
        "colab_type": "code",
        "outputId": "cf2196ed-063c-419c-bc9d-3f14cf716821",
        "colab": {
          "base_uri": "https://localhost:8080/",
          "height": 607
        }
      },
      "source": [
        "# gnb = GaussianNB()\n",
        "# gnb = MultinomialNB()\n",
        "gnb = BernoulliNB(alpha=0.05, \n",
        "                  binarize=0.0,\n",
        "                  fit_prior=False, \n",
        "                  class_prior=None)\n",
        "gnb.fit(X_train_WOE_balanced, y_train_WOE_balanced)\n",
        "\n",
        "\n",
        "y_train_pred_f = gnb.predict(X_train_WOE)\n",
        "y_test_pred_f= gnb.predict(X_test_WOE)\n",
        "y_test_pred_probs_f = gnb.predict_proba(X_test_WOE)\n",
        "\n",
        "get_classification_report(y_train_WOE, y_train_pred_f, y_test_WOE, y_test_pred_f)\n",
        "precision_test, recall_test, f1_test, log_loss_test, roc_auc_test = \\\n",
        "    evaluation(y_test_WOE, y_test_pred_f, y_test_pred_probs_f[:, 1])\n",
        "gnb.get_params().keys()"
      ],
      "execution_count": 102,
      "outputs": [
        {
          "output_type": "stream",
          "text": [
            "TRAIN\n",
            "\n",
            "              precision    recall  f1-score   support\n",
            "\n",
            "         0.0       0.96      0.71      0.82       693\n",
            "         1.0       0.15      0.65      0.24        52\n",
            "\n",
            "    accuracy                           0.71       745\n",
            "   macro avg       0.56      0.68      0.53       745\n",
            "weighted avg       0.91      0.71      0.78       745\n",
            "\n",
            "TEST\n",
            "\n",
            "              precision    recall  f1-score   support\n",
            "\n",
            "         0.0       0.94      0.72      0.82      1041\n",
            "         1.0       0.11      0.44      0.17        78\n",
            "\n",
            "    accuracy                           0.70      1119\n",
            "   macro avg       0.52      0.58      0.49      1119\n",
            "weighted avg       0.89      0.70      0.77      1119\n",
            "\n",
            "CONFUSION MATRIX\n",
            "\n",
            "col_0   0.0  1.0\n",
            "target          \n",
            "0.0     752  289\n",
            "1.0      44   34\n",
            "Precision: 0.10526315789473684\n",
            "Recall: 0.4358974358974359\n",
            "F1: 0.16957605985037405\n",
            "Log Loss: 1.7880914810588262\n",
            "ROC AUC: 0.6282790216507796\n"
          ],
          "name": "stdout"
        },
        {
          "output_type": "execute_result",
          "data": {
            "text/plain": [
              "dict_keys(['alpha', 'binarize', 'class_prior', 'fit_prior'])"
            ]
          },
          "metadata": {
            "tags": []
          },
          "execution_count": 102
        }
      ]
    },
    {
      "cell_type": "markdown",
      "metadata": {
        "id": "nOVCawuiLTho",
        "colab_type": "text"
      },
      "source": [
        "В этой модели абсолютное самое большое количество обнаруженных 'target: 1.0', но но итоговвая ошибка самая большая"
      ]
    },
    {
      "cell_type": "code",
      "metadata": {
        "id": "E9j-zUB4UJ3-",
        "colab_type": "code",
        "outputId": "4310171c-5079-4845-ed21-acfcf5e5a740",
        "colab": {
          "base_uri": "https://localhost:8080/",
          "height": 347
        }
      },
      "source": [
        "param_b ={ \n",
        "               'alpha':[0.1,0.5,1.,1.5,2.0,3.0,],\n",
        "'binarize':[0.0, 0.5,1.5,2.0],\n",
        "'fit_prior':[True, False],\n",
        "'class_prior':[None, 1.,2.,10.]\n",
        "}\n",
        "\n",
        "\n",
        "xgb_gsc = run_grid_search(gnb, X_train_WOE_balanced, y_train_WOE_balanced, param_b, kfold_cv)"
      ],
      "execution_count": 103,
      "outputs": [
        {
          "output_type": "stream",
          "text": [
            "Best roc_auc score: 0.83\n",
            "\n",
            "Best parameters set found on development set:\n",
            "\n",
            "{'fit_prior': True, 'class_prior': None, 'binarize': 0.0, 'alpha': 0.1}\n",
            "\n",
            "Grid scores on development set:\n",
            "\n",
            "nan (+/-nan) for {'fit_prior': True, 'class_prior': 1.0, 'binarize': 0.5, 'alpha': 2.0}\n",
            "nan (+/-nan) for {'fit_prior': True, 'class_prior': 1.0, 'binarize': 0.5, 'alpha': 1.5}\n",
            "nan (+/-nan) for {'fit_prior': False, 'class_prior': 2.0, 'binarize': 1.5, 'alpha': 1.5}\n",
            "nan (+/-nan) for {'fit_prior': True, 'class_prior': 10.0, 'binarize': 1.5, 'alpha': 0.1}\n",
            "0.829 (+/-0.026) for {'fit_prior': True, 'class_prior': None, 'binarize': 0.0, 'alpha': 0.1}\n",
            "nan (+/-nan) for {'fit_prior': False, 'class_prior': 10.0, 'binarize': 1.5, 'alpha': 1.0}\n",
            "0.826 (+/-0.026) for {'fit_prior': False, 'class_prior': None, 'binarize': 0.0, 'alpha': 0.5}\n",
            "nan (+/-nan) for {'fit_prior': True, 'class_prior': 1.0, 'binarize': 2.0, 'alpha': 2.0}\n",
            "nan (+/-nan) for {'fit_prior': False, 'class_prior': 2.0, 'binarize': 0.0, 'alpha': 3.0}\n",
            "nan (+/-nan) for {'fit_prior': True, 'class_prior': 1.0, 'binarize': 1.5, 'alpha': 0.5}\n",
            "\n"
          ],
          "name": "stdout"
        }
      ]
    },
    {
      "cell_type": "markdown",
      "metadata": {
        "id": "kgcljzM8Y-dO",
        "colab_type": "text"
      },
      "source": [
        "Представление итогов работы  лучшей модели"
      ]
    },
    {
      "cell_type": "code",
      "metadata": {
        "id": "5_B2pJREiIAk",
        "colab_type": "code",
        "colab": {}
      },
      "source": [
        "from mpl_toolkits.axes_grid1 import make_axes_locatable"
      ],
      "execution_count": 0,
      "outputs": []
    },
    {
      "cell_type": "code",
      "metadata": {
        "id": "1mPL90hANQ1y",
        "colab_type": "code",
        "colab": {}
      },
      "source": [
        "def plot_confusion_matrix(y_true, y_pred, classes, cmap=plt.cm.Blues):\n",
        "    TN, FP, FN, TP = confusion_matrix(y_true, y_pred).ravel()\n",
        "    cm = np.array([[TP, FP],\n",
        "                   [FN, TN]])\n",
        "    cm_normalized = cm.astype('float') / cm.sum(axis=0)\n",
        "    # Plot both matrixes - basic and normalized\n",
        "    fig, ax = plt.subplots(nrows=1, ncols=2, figsize=(10,10))\n",
        "    for ax, normalize, data, title in zip(ax,\n",
        "                                          [False, True], \n",
        "                                          [cm, cm_normalized], \n",
        "                                          ['Confusion matrix (without normalization)', \n",
        "                                           'Сonfusion matrix (normalized)']):\n",
        "        im = ax.imshow(data, interpolation='nearest', cmap=cmap)\n",
        "        divider = make_axes_locatable(ax)\n",
        "        cax = divider.append_axes('right', size='5%', pad=0.1)\n",
        "        fig.colorbar(im, cax=cax)\n",
        "        ax.set(xticks=np.arange(data.shape[1]),\n",
        "               yticks=np.arange(data.shape[0]),\n",
        "               xticklabels=classes, \n",
        "               yticklabels=classes,\n",
        "               title=title,\n",
        "               ylabel='Predicted label',\n",
        "               xlabel='True label')\n",
        "        plt.setp(ax.get_xticklabels(), rotation=45, ha='right', rotation_mode='anchor')        \n",
        "        # Loop over data dimensions and create text annotations\n",
        "        fmt = '.2f' if normalize else 'd'\n",
        "        for i in range(data.shape[0]):\n",
        "            for j in range(data.shape[1]):\n",
        "                ax.text(j, i, format(data[i, j], fmt), ha=\"center\", va=\"center\", \n",
        "                        color=\"white\" if data[i, j] > data.max() / 2. else \"black\")                \n",
        "    fig.tight_layout()\n",
        "    return fig \n",
        "\n",
        "def plot_PR_curve(y_true, y_pred, y_prob):\n",
        "    AP = average_precision_score(y_true=y_true, y_score=y_prob)\n",
        "    precisions, recalls, thresholds = precision_recall_curve(y_true=y_true, probas_pred=y_prob)\n",
        "    \n",
        "    plt.step(recalls, precisions, color='b', alpha=0.2, where='post')\n",
        "    plt.fill_between(recalls, precisions, alpha=0.2, color='b', step='post')\n",
        "    plt.xlabel('Recall')\n",
        "    plt.ylabel('Precision')\n",
        "    plt.ylim([0.0, 1.05])\n",
        "    plt.xlim([0.0, 1.0])\n",
        "    plt.title('PR curve: AP={0:0.2f}'.format(AP))\n",
        "    \n",
        "def plot_ROC_curve(classifier, X, y, n_folds):\n",
        "    \n",
        "    cv = StratifiedKFold(n_splits=n_folds)\n",
        "    tprs = []\n",
        "    aucs = []\n",
        "    mean_fpr = np.linspace(0, 1, 100)\n",
        "    i = 0\n",
        "    \n",
        "    for train, test in cv.split(X, y):\n",
        "        probas_ = classifier.fit(X[train], y[train]).predict_proba(X[test])\n",
        "        fpr, tpr, thresholds = roc_curve(y[test], probas_[:, 1])\n",
        "        tprs.append(interp(mean_fpr, fpr, tpr))\n",
        "        tprs[-1][0] = 0.0\n",
        "        roc_auc = auc(fpr, tpr)\n",
        "        aucs.append(roc_auc)\n",
        "        plt.plot(fpr, tpr, lw=1, alpha=0.3, label='ROC fold %d (AUC = %0.2f)' % (i, roc_auc))\n",
        "        i += 1\n",
        "        \n",
        "    plt.plot([0, 1], [0, 1], linestyle='--', lw=2, color='r', label='Chance', alpha=.8)\n",
        "\n",
        "    mean_tpr = np.mean(tprs, axis=0)\n",
        "    mean_tpr[-1] = 1.0\n",
        "    mean_auc = auc(mean_fpr, mean_tpr)\n",
        "    std_auc = np.std(aucs)\n",
        "    plt.plot(mean_fpr, mean_tpr, color='b', label=r'Mean ROC (AUC = %0.2f $\\pm$ %0.2f)' % \\\n",
        "             (mean_auc, std_auc), lw=2, alpha=.8)\n",
        "\n",
        "    std_tpr = np.std(tprs, axis=0)\n",
        "    tprs_upper = np.minimum(mean_tpr + std_tpr, 1)\n",
        "    tprs_lower = np.maximum(mean_tpr - std_tpr, 0)\n",
        "    plt.fill_between(mean_fpr, tprs_lower, tprs_upper, color='grey', alpha=.2, label=r'$\\pm$ 1 std. dev.')\n",
        "\n",
        "    plt.xlim([-0.05, 1.05])\n",
        "    plt.ylim([-0.05, 1.05])\n",
        "    plt.xlabel('False Positive Rate')\n",
        "    plt.ylabel('True Positive Rate')\n",
        "    plt.title('Receiver operating characteristic example')\n",
        "    plt.legend(loc=\"lower right\")\n",
        "    plt.show()"
      ],
      "execution_count": 0,
      "outputs": []
    },
    {
      "cell_type": "markdown",
      "metadata": {
        "id": "vCze-qNoMRN3",
        "colab_type": "text"
      },
      "source": [
        "Рассмотрим поведение лучшей модели: clf_fin"
      ]
    },
    {
      "cell_type": "code",
      "metadata": {
        "id": "LYmZHsm6NQyj",
        "colab_type": "code",
        "colab": {
          "base_uri": "https://localhost:8080/",
          "height": 342
        },
        "outputId": "aeb4706c-7144-487e-faa1-2fe21fe35d27"
      },
      "source": [
        "predict_test = clf_fin.predict(X_test_WOE)\n",
        "predict_test_probas = clf_fin.predict_proba(X_test_WOE)[:, 1]\n",
        "\n",
        "# predict_test = logit.predict(X_test_WOE)\n",
        "# predict_test_probas = logit.predict_proba(X_test_WOE)[:, 1]\n",
        "\n",
        "\n",
        "plot_confusion_matrix(y_test_WOE.values, predict_test, classes=['churn', 'active'])\n",
        "plt.show()"
      ],
      "execution_count": 106,
      "outputs": [
        {
          "output_type": "display_data",
          "data": {
            "image/png": "[encoded data removed]",
            "text/plain": [
              "<Figure size 720x720 with 4 Axes>"
            ]
          },
          "metadata": {
            "tags": [],
            "needs_background": "light"
          }
        }
      ]
    },
    {
      "cell_type": "code",
      "metadata": {
        "id": "tBRV_BCWNQo8",
        "colab_type": "code",
        "colab": {
          "base_uri": "https://localhost:8080/",
          "height": 295
        },
        "outputId": "ce8fbfde-ccae-474e-c11b-b75426f94f47"
      },
      "source": [
        "plot_PR_curve(y_test_WOE.values, predict_test, predict_test_probas)\n",
        "plt.show()"
      ],
      "execution_count": 107,
      "outputs": [
        {
          "output_type": "display_data",
          "data": {
            "image/png": "[encoded data removed]",
            "text/plain": [
              "<Figure size 432x288 with 1 Axes>"
            ]
          },
          "metadata": {
            "tags": [],
            "needs_background": "light"
          }
        }
      ]
    },
    {
      "cell_type": "code",
      "metadata": {
        "id": "K3Qm93BJsWsk",
        "colab_type": "code",
        "colab": {}
      },
      "source": [
        "fpr, tpr, roc_thresholds = roc_curve(y_test_WOE, predict_test_probas)\n",
        "precision, recall, pr_thresholds = precision_recall_curve(y_test_WOE, predict_test_probas)"
      ],
      "execution_count": 0,
      "outputs": []
    },
    {
      "cell_type": "code",
      "metadata": {
        "id": "dvHHDUAPNQl5",
        "colab_type": "code",
        "colab": {}
      },
      "source": [
        "def plot_roc_curve(fpr, tpr, model_name=\"\", color=None):\n",
        "    plt.plot(fpr, tpr, label='%s: ROC curve (area = %0.2f)' %\n",
        "             (model_name, auc(fpr, tpr)), color=color)\n",
        "    plt.plot([0, 1], [0, 1], 'k--')\n",
        "    plt.axis([0.0, 1.0, 0.0, 1.05])\n",
        "    plt.xlabel('False Positive Rate')\n",
        "    plt.ylabel('True Positive Rate')\n",
        "    plt.title('%s: Receiver operating characteristic curve' % model_name)\n",
        "    plt.legend(loc=\"lower right\")"
      ],
      "execution_count": 0,
      "outputs": []
    },
    {
      "cell_type": "code",
      "metadata": {
        "id": "4ekXgCYCNQiF",
        "colab_type": "code",
        "colab": {}
      },
      "source": [
        "def plot_precision_recall_curve(recall, precision, model_name=\"\", color=None):\n",
        "    plt.plot(recall, precision, label='%s: Precision-Recall curve (area = %0.2f)' %\n",
        "             (model_name, auc(recall, precision)), color=color)\n",
        "    plt.xlabel('Recall')\n",
        "    plt.ylabel('Precision')\n",
        "    plt.title(\"%s: Precision-Recall curve\" % model_name)\n",
        "    plt.axis([0.0, 1.0, 0.0, 1.05])\n",
        "    plt.legend(loc=\"lower left\")"
      ],
      "execution_count": 0,
      "outputs": []
    },
    {
      "cell_type": "code",
      "metadata": {
        "id": "43y2LokDt0Mq",
        "colab_type": "code",
        "colab": {}
      },
      "source": [
        "def show_proba_calibration_plots(y_predicted_probs, y_true_labels):\n",
        "    preds_with_true_labels = np.array(list(zip(y_predicted_probs, y_true_labels)))\n",
        "\n",
        "    thresholds = []\n",
        "    precisions = []\n",
        "    recalls = []\n",
        "    f1_scores = []\n",
        "\n",
        "    for threshold in np.linspace(0.1, 0.9, 9):\n",
        "        thresholds.append(threshold)\n",
        "        precisions.append(precision_score(y_true_labels, list(map(int, y_predicted_probs > threshold))))\n",
        "        recalls.append(recall_score(y_true_labels, list(map(int, y_predicted_probs > threshold))))\n",
        "        f1_scores.append(f1_score(y_true_labels, list(map(int, y_predicted_probs > threshold))))\n",
        "\n",
        "    scores_table = pd.DataFrame({'f1':f1_scores,\n",
        "                                 'precision':precisions,\n",
        "                                 'recall':recalls,\n",
        "                                 'probability':thresholds}).sort_values('f1', ascending=False).round(3)\n",
        "  \n",
        "    figure = plt.figure(figsize = (15, 5))\n",
        "\n",
        "    plt1 = figure.add_subplot(121)\n",
        "    plt1.plot(thresholds, precisions, label='Precision', linewidth=4)\n",
        "    plt1.plot(thresholds, recalls, label='Recall', linewidth=4)\n",
        "    plt1.plot(thresholds, f1_scores, label='F1', linewidth=4)\n",
        "    plt1.set_ylabel('Scores')\n",
        "    plt1.set_xlabel('Probability threshold')\n",
        "    plt1.set_title('Probabilities threshold calibration')\n",
        "    plt1.legend(bbox_to_anchor=(0.25, 0.25))   \n",
        "    plt1.table(cellText = scores_table.values,\n",
        "               colLabels = scores_table.columns, \n",
        "               colLoc = 'center', cellLoc = 'center', loc = 'bottom', bbox = [0, -1.3, 1, 1])\n",
        "\n",
        "    plt2 = figure.add_subplot(122)\n",
        "    plt2.hist(preds_with_true_labels[preds_with_true_labels[:, 1] == 0][:, 0], \n",
        "              label='Another class', color='royalblue', alpha=1)\n",
        "    plt2.hist(preds_with_true_labels[preds_with_true_labels[:, 1] == 1][:, 0], \n",
        "              label='Main class', color='red', alpha=0.8)\n",
        "    plt2.set_ylabel('Number of examples')\n",
        "    plt2.set_xlabel('Probabilities')\n",
        "    plt2.set_title('Probability histogram')\n",
        "    plt2.legend(bbox_to_anchor=(1, 1))\n",
        "\n",
        "    plt.show()"
      ],
      "execution_count": 0,
      "outputs": []
    },
    {
      "cell_type": "code",
      "metadata": {
        "id": "m6wN_sBisW6O",
        "colab_type": "code",
        "colab": {
          "base_uri": "https://localhost:8080/",
          "height": 1000
        },
        "outputId": "8fd916a7-2f99-4b85-9a8e-2c1ce4e29378"
      },
      "source": [
        "\n",
        "plt.figure(figsize=(5, 5))\n",
        "plot_roc_curve(fpr, tpr, \"Final model\", color='r')\n",
        "print(\"Baseline: AUC_ROC = %.3f\" % auc(fpr, tpr))\n",
        "\n",
        "plt.figure(figsize=(5, 5))\n",
        "    \n",
        "plot_precision_recall_curve(recall, precision, \"Final model\", color='r')\n",
        "print(\"Baseline: AUC_PR = %.3f\" % auc(recall, precision))\n",
        "\n",
        "show_proba_calibration_plots(predict_test_probas, y_test_WOE)"
      ],
      "execution_count": 112,
      "outputs": [
        {
          "output_type": "stream",
          "text": [
            "Baseline: AUC_ROC = 0.623\n",
            "Baseline: AUC_PR = 0.135\n"
          ],
          "name": "stdout"
        },
        {
          "output_type": "display_data",
          "data": {
            "image/png": "[encoded data removed]",
            "text/plain": [
              "<Figure size 360x360 with 1 Axes>"
            ]
          },
          "metadata": {
            "tags": [],
            "needs_background": "light"
          }
        },
        {
          "output_type": "display_data",
          "data": {
            "image/png": "[encoded data removed]",
            "text/plain": [
              "<Figure size 360x360 with 1 Axes>"
            ]
          },
          "metadata": {
            "tags": [],
            "needs_background": "light"
          }
        },
        {
          "output_type": "display_data",
          "data": {
            "image/png": "[encoded data removed]",
            "text/plain": [
              "<Figure size 1080x360 with 2 Axes>"
            ]
          },
          "metadata": {
            "tags": [],
            "needs_background": "light"
          }
        }
      ]
    },
    {
      "cell_type": "markdown",
      "metadata": {
        "id": "CAOMU3VWuKJr",
        "colab_type": "text"
      },
      "source": [
        "# TEST_WORK"
      ]
    },
    {
      "cell_type": "markdown",
      "metadata": {
        "id": "BwUDttleDMmx",
        "colab_type": "text"
      },
      "source": [
        "Создадим необходимые функции для обработки тестового набора"
      ]
    },
    {
      "cell_type": "code",
      "metadata": {
        "id": "E_AUAWe0sXEk",
        "colab_type": "code",
        "colab": {}
      },
      "source": [
        "def etl_data_megafon(data):\n",
        "  '''преобразует дату в признаки'''\n",
        "  data = data.rename(columns={'Unnamed: 0': 'index'})\n",
        "  # data = data.set_index('index')\n",
        "  data['date'] = list(map(datetime.fromtimestamp,data['buy_time']))\n",
        "  data['month'] = data['date'].apply(lambda x: x.timetuple()[1])\n",
        "  data['days'] = data['date'].apply(lambda x: x.timetuple()[7])\n",
        "  # data['year'] = data['date'].map(lambda x: x.year)\n",
        "  data['hour'] = data['date'].map(lambda x: x.hour)\n",
        "  data['is_holiday'] = data['date'].map(lambda x: x in holidays.RU())\n",
        "  first_diff_l =np.log(data.iloc[1:,3].values) \n",
        "  data['diff1_l'] = 0\n",
        "  data['diff1_l'] =  data['diff1_l'].astype('float') \n",
        "  data['diff1_l'].values[1:] = first_diff_l\n",
        "  data = data.drop(['date'],axis=1)\n",
        "\n",
        "  return data"
      ],
      "execution_count": 0,
      "outputs": []
    },
    {
      "cell_type": "code",
      "metadata": {
        "id": "o8GHN8_ysXMi",
        "colab_type": "code",
        "colab": {}
      },
      "source": [
        "def merged_feats_data(data, FEATURES_PATH):\n",
        "  '''объединяет два датасета'''\n",
        "  df_features = []\n",
        "  for gm_chunk in pd.read_csv(FEATURES_PATH,\n",
        "                              # '/content/drive/My Drive/Features/features.csv 2(1).zip',\n",
        "                              sep='\\t', \n",
        "                              chunksize=chunksize, \n",
        "                              # compression='zip', \n",
        "                              # nrows=200_000\n",
        "                              ):\n",
        "      df_features.append(data.merge(gm_chunk,  on=('id','buy_time')))\n",
        "      df_merged = pd.concat(df_features)\n",
        "      return df_merged\n",
        "   "
      ],
      "execution_count": 0,
      "outputs": []
    },
    {
      "cell_type": "code",
      "metadata": {
        "id": "HzqBfMyGQwPS",
        "colab_type": "code",
        "colab": {}
      },
      "source": [
        "def test_transform(df_test_m):\n",
        "  '''преобразует в датафрейме нумерические и категорийные признаки'''\n",
        "  df_test_ss = df_test_m.copy()\n",
        "  ss = StandardScaler()\n",
        "  ohe = OneHotEncoder(sparse=False, handle_unknown='ignore')\n",
        "\n",
        "  transformers = [('cat', ohe, CAT_FEATS),\n",
        "                  ('num', ss, NUM_FEATS)]\n",
        "\n",
        "  ct = ColumnTransformer(transformers)\n",
        "  X_m = ct.fit_transform(df_test_ss[FEATS])\n",
        "  # X_m = ct.fit_transform(df_test_m)\n",
        "\n",
        "  return X_m"
      ],
      "execution_count": 0,
      "outputs": []
    },
    {
      "cell_type": "code",
      "metadata": {
        "id": "b1IkwcbGJEp_",
        "colab_type": "code",
        "colab": {
          "base_uri": "https://localhost:8080/",
          "height": 208
        },
        "outputId": "843d0b60-ea9c-44f9-cde5-0ca83fc3955b"
      },
      "source": [
        "df_test = pd.read_csv(TEST_PATH)\n",
        "df_test.info()"
      ],
      "execution_count": 116,
      "outputs": [
        {
          "output_type": "stream",
          "text": [
            "<class 'pandas.core.frame.DataFrame'>\n",
            "RangeIndex: 71231 entries, 0 to 71230\n",
            "Data columns (total 4 columns):\n",
            " #   Column      Non-Null Count  Dtype  \n",
            "---  ------      --------------  -----  \n",
            " 0   Unnamed: 0  71231 non-null  int64  \n",
            " 1   id          71231 non-null  int64  \n",
            " 2   vas_id      71231 non-null  float64\n",
            " 3   buy_time    71231 non-null  int64  \n",
            "dtypes: float64(1), int64(3)\n",
            "memory usage: 2.2 MB\n"
          ],
          "name": "stdout"
        }
      ]
    },
    {
      "cell_type": "code",
      "metadata": {
        "id": "e4JLVtTdsXUG",
        "colab_type": "code",
        "colab": {
          "base_uri": "https://localhost:8080/",
          "height": 295
        },
        "outputId": "6b4ba653-a8e3-4212-f705-0119f5ea0e35"
      },
      "source": [
        "df_test=etl_data_megafon(df_test)\n",
        "df_test.info()"
      ],
      "execution_count": 117,
      "outputs": [
        {
          "output_type": "stream",
          "text": [
            "<class 'pandas.core.frame.DataFrame'>\n",
            "RangeIndex: 71231 entries, 0 to 71230\n",
            "Data columns (total 9 columns):\n",
            " #   Column      Non-Null Count  Dtype  \n",
            "---  ------      --------------  -----  \n",
            " 0   index       71231 non-null  int64  \n",
            " 1   id          71231 non-null  int64  \n",
            " 2   vas_id      71231 non-null  float64\n",
            " 3   buy_time    71231 non-null  int64  \n",
            " 4   month       71231 non-null  int64  \n",
            " 5   days        71231 non-null  int64  \n",
            " 6   hour        71231 non-null  int64  \n",
            " 7   is_holiday  71231 non-null  bool   \n",
            " 8   diff1_l     71231 non-null  float64\n",
            "dtypes: bool(1), float64(2), int64(6)\n",
            "memory usage: 4.4 MB\n"
          ],
          "name": "stdout"
        }
      ]
    },
    {
      "cell_type": "code",
      "metadata": {
        "id": "PBpqIGuFMi-Q",
        "colab_type": "code",
        "colab": {
          "base_uri": "https://localhost:8080/",
          "height": 121
        },
        "outputId": "46c28fd4-f915-4453-8137-885d63e431d0"
      },
      "source": [
        "df_test_m = merged_feats_data(df_test,FEATURES_PATH)\n",
        "df_test_m.shape, df_test_m.info()"
      ],
      "execution_count": 118,
      "outputs": [
        {
          "output_type": "stream",
          "text": [
            "<class 'pandas.core.frame.DataFrame'>\n",
            "Int64Index: 93 entries, 0 to 92\n",
            "Columns: 263 entries, index to 252\n",
            "dtypes: bool(1), float64(255), int64(7)\n",
            "memory usage: 191.2 KB\n"
          ],
          "name": "stdout"
        },
        {
          "output_type": "execute_result",
          "data": {
            "text/plain": [
              "((93, 263), None)"
            ]
          },
          "metadata": {
            "tags": []
          },
          "execution_count": 118
        }
      ]
    },
    {
      "cell_type": "code",
      "metadata": {
        "id": "M_VNHM_EiC9q",
        "colab_type": "code",
        "colab": {
          "base_uri": "https://localhost:8080/",
          "height": 34
        },
        "outputId": "da8bd2c2-bef6-462a-8e3f-54a5ee48a9c9"
      },
      "source": [
        "df_test_t=df_test_m.copy()\n",
        "df_test_ff=df_test_t[FEATS]\n",
        "df_test_ff.shape"
      ],
      "execution_count": 119,
      "outputs": [
        {
          "output_type": "execute_result",
          "data": {
            "text/plain": [
              "(93, 100)"
            ]
          },
          "metadata": {
            "tags": []
          },
          "execution_count": 119
        }
      ]
    },
    {
      "cell_type": "code",
      "metadata": {
        "id": "Lh4lIav4f_Gd",
        "colab_type": "code",
        "colab": {
          "base_uri": "https://localhost:8080/",
          "height": 34
        },
        "outputId": "fde81b18-4472-4688-f4b0-77ee26b0f727"
      },
      "source": [
        "# X_test_test=test_transform(df_test_m)\n",
        "X_test_test = ct_all.transform(df_test_ff)\n",
        "len(X_test_test)\n"
      ],
      "execution_count": 120,
      "outputs": [
        {
          "output_type": "execute_result",
          "data": {
            "text/plain": [
              "93"
            ]
          },
          "metadata": {
            "tags": []
          },
          "execution_count": 120
        }
      ]
    },
    {
      "cell_type": "code",
      "metadata": {
        "id": "VnwoyB2u8eRl",
        "colab_type": "code",
        "colab": {
          "base_uri": "https://localhost:8080/",
          "height": 206
        },
        "outputId": "9ac6ffb9-597e-4ed4-dee8-015f4e7ad955"
      },
      "source": [
        "target = clf_fin.predict_proba(X_test_test)[:,1]\n",
        "# len(target), df_test_m.shape\n",
        "df_test_m['target'] = target\n",
        "df_test_m.loc[:,['buy_time', 'id', 'vas_id', 'target']].to_csv(ANSWER_PATH,index=None)\n",
        "pd.read_csv(ANSWER_PATH).head()"
      ],
      "execution_count": 121,
      "outputs": [
        {
          "output_type": "execute_result",
          "data": {
            "text/html": [
              "<div>\n",
              "<style scoped>\n",
              "    .dataframe tbody tr th:only-of-type {\n",
              "        vertical-align: middle;\n",
              "    }\n",
              "\n",
              "    .dataframe tbody tr th {\n",
              "        vertical-align: top;\n",
              "    }\n",
              "\n",
              "    .dataframe thead th {\n",
              "        text-align: right;\n",
              "    }\n",
              "</style>\n",
              "<table border=\"1\" class=\"dataframe\">\n",
              "  <thead>\n",
              "    <tr style=\"text-align: right;\">\n",
              "      <th></th>\n",
              "      <th>buy_time</th>\n",
              "      <th>id</th>\n",
              "      <th>vas_id</th>\n",
              "      <th>target</th>\n",
              "    </tr>\n",
              "  </thead>\n",
              "  <tbody>\n",
              "    <tr>\n",
              "      <th>0</th>\n",
              "      <td>1547413200</td>\n",
              "      <td>1033077</td>\n",
              "      <td>5.0</td>\n",
              "      <td>0.116066</td>\n",
              "    </tr>\n",
              "    <tr>\n",
              "      <th>1</th>\n",
              "      <td>1546808400</td>\n",
              "      <td>3496850</td>\n",
              "      <td>5.0</td>\n",
              "      <td>0.018790</td>\n",
              "    </tr>\n",
              "    <tr>\n",
              "      <th>2</th>\n",
              "      <td>1547413200</td>\n",
              "      <td>2546419</td>\n",
              "      <td>7.0</td>\n",
              "      <td>0.001432</td>\n",
              "    </tr>\n",
              "    <tr>\n",
              "      <th>3</th>\n",
              "      <td>1547413200</td>\n",
              "      <td>541971</td>\n",
              "      <td>2.0</td>\n",
              "      <td>0.003459</td>\n",
              "    </tr>\n",
              "    <tr>\n",
              "      <th>4</th>\n",
              "      <td>1546808400</td>\n",
              "      <td>2264715</td>\n",
              "      <td>6.0</td>\n",
              "      <td>0.002197</td>\n",
              "    </tr>\n",
              "  </tbody>\n",
              "</table>\n",
              "</div>"
            ],
            "text/plain": [
              "     buy_time       id  vas_id    target\n",
              "0  1547413200  1033077     5.0  0.116066\n",
              "1  1546808400  3496850     5.0  0.018790\n",
              "2  1547413200  2546419     7.0  0.001432\n",
              "3  1547413200   541971     2.0  0.003459\n",
              "4  1546808400  2264715     6.0  0.002197"
            ]
          },
          "metadata": {
            "tags": []
          },
          "execution_count": 121
        }
      ]
    },
    {
      "cell_type": "code",
      "metadata": {
        "id": "zWg2vHib6FU_",
        "colab_type": "code",
        "colab": {}
      },
      "source": [
        "with open(MODEL_FILE_PATH, 'wb') as file:\n",
        "    pickle.dump(clf_fin, file)"
      ],
      "execution_count": 0,
      "outputs": []
    }
  ]
}